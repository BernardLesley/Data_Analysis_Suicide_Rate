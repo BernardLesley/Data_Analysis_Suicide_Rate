{
 "cells": [
  {
   "cell_type": "code",
   "execution_count": 1,
   "metadata": {},
   "outputs": [],
   "source": [
    "import numpy as np\n",
    "import pandas as pd\n",
    "import seaborn as sb\n",
    "import matplotlib.pyplot as plt \n",
    "sb.set() "
   ]
  },
  {
   "cell_type": "code",
   "execution_count": 2,
   "metadata": {},
   "outputs": [],
   "source": [
    "df=pd.read_csv('clean_data.csv')"
   ]
  },
  {
   "cell_type": "code",
   "execution_count": 3,
   "metadata": {},
   "outputs": [
    {
     "data": {
      "text/html": [
       "<div>\n",
       "<style scoped>\n",
       "    .dataframe tbody tr th:only-of-type {\n",
       "        vertical-align: middle;\n",
       "    }\n",
       "\n",
       "    .dataframe tbody tr th {\n",
       "        vertical-align: top;\n",
       "    }\n",
       "\n",
       "    .dataframe thead th {\n",
       "        text-align: right;\n",
       "    }\n",
       "</style>\n",
       "<table border=\"1\" class=\"dataframe\">\n",
       "  <thead>\n",
       "    <tr style=\"text-align: right;\">\n",
       "      <th></th>\n",
       "      <th>suicides/100k pop</th>\n",
       "      <th>Life Ladder</th>\n",
       "      <th>Log GDP per capita</th>\n",
       "      <th>Social support</th>\n",
       "      <th>Healthy life expectancy at birth</th>\n",
       "      <th>Freedom to make life choices</th>\n",
       "      <th>Generosity</th>\n",
       "      <th>Perceptions of corruption</th>\n",
       "      <th>sex_female</th>\n",
       "      <th>sex_male</th>\n",
       "      <th>age_15-24 years</th>\n",
       "      <th>age_25-34 years</th>\n",
       "      <th>age_35-54 years</th>\n",
       "      <th>age_5-14 years</th>\n",
       "      <th>age_55-74 years</th>\n",
       "      <th>age_75+ years</th>\n",
       "    </tr>\n",
       "  </thead>\n",
       "  <tbody>\n",
       "    <tr>\n",
       "      <th>0</th>\n",
       "      <td>18.88</td>\n",
       "      <td>4.634</td>\n",
       "      <td>9.142</td>\n",
       "      <td>0.821</td>\n",
       "      <td>65.8</td>\n",
       "      <td>0.529</td>\n",
       "      <td>-0.009</td>\n",
       "      <td>0.875</td>\n",
       "      <td>0</td>\n",
       "      <td>1</td>\n",
       "      <td>0</td>\n",
       "      <td>0</td>\n",
       "      <td>0</td>\n",
       "      <td>0</td>\n",
       "      <td>0</td>\n",
       "      <td>1</td>\n",
       "    </tr>\n",
       "    <tr>\n",
       "      <th>1</th>\n",
       "      <td>7.66</td>\n",
       "      <td>4.634</td>\n",
       "      <td>9.142</td>\n",
       "      <td>0.821</td>\n",
       "      <td>65.8</td>\n",
       "      <td>0.529</td>\n",
       "      <td>-0.009</td>\n",
       "      <td>0.875</td>\n",
       "      <td>0</td>\n",
       "      <td>1</td>\n",
       "      <td>0</td>\n",
       "      <td>0</td>\n",
       "      <td>1</td>\n",
       "      <td>0</td>\n",
       "      <td>0</td>\n",
       "      <td>0</td>\n",
       "    </tr>\n",
       "    <tr>\n",
       "      <th>2</th>\n",
       "      <td>6.25</td>\n",
       "      <td>4.634</td>\n",
       "      <td>9.142</td>\n",
       "      <td>0.821</td>\n",
       "      <td>65.8</td>\n",
       "      <td>0.529</td>\n",
       "      <td>-0.009</td>\n",
       "      <td>0.875</td>\n",
       "      <td>0</td>\n",
       "      <td>1</td>\n",
       "      <td>0</td>\n",
       "      <td>0</td>\n",
       "      <td>0</td>\n",
       "      <td>0</td>\n",
       "      <td>1</td>\n",
       "      <td>0</td>\n",
       "    </tr>\n",
       "    <tr>\n",
       "      <th>3</th>\n",
       "      <td>5.23</td>\n",
       "      <td>4.634</td>\n",
       "      <td>9.142</td>\n",
       "      <td>0.821</td>\n",
       "      <td>65.8</td>\n",
       "      <td>0.529</td>\n",
       "      <td>-0.009</td>\n",
       "      <td>0.875</td>\n",
       "      <td>1</td>\n",
       "      <td>0</td>\n",
       "      <td>0</td>\n",
       "      <td>0</td>\n",
       "      <td>0</td>\n",
       "      <td>0</td>\n",
       "      <td>0</td>\n",
       "      <td>1</td>\n",
       "    </tr>\n",
       "    <tr>\n",
       "      <th>4</th>\n",
       "      <td>5.22</td>\n",
       "      <td>4.634</td>\n",
       "      <td>9.142</td>\n",
       "      <td>0.821</td>\n",
       "      <td>65.8</td>\n",
       "      <td>0.529</td>\n",
       "      <td>-0.009</td>\n",
       "      <td>0.875</td>\n",
       "      <td>0</td>\n",
       "      <td>1</td>\n",
       "      <td>0</td>\n",
       "      <td>1</td>\n",
       "      <td>0</td>\n",
       "      <td>0</td>\n",
       "      <td>0</td>\n",
       "      <td>0</td>\n",
       "    </tr>\n",
       "    <tr>\n",
       "      <th>...</th>\n",
       "      <td>...</td>\n",
       "      <td>...</td>\n",
       "      <td>...</td>\n",
       "      <td>...</td>\n",
       "      <td>...</td>\n",
       "      <td>...</td>\n",
       "      <td>...</td>\n",
       "      <td>...</td>\n",
       "      <td>...</td>\n",
       "      <td>...</td>\n",
       "      <td>...</td>\n",
       "      <td>...</td>\n",
       "      <td>...</td>\n",
       "      <td>...</td>\n",
       "      <td>...</td>\n",
       "      <td>...</td>\n",
       "    </tr>\n",
       "    <tr>\n",
       "      <th>6531</th>\n",
       "      <td>2.96</td>\n",
       "      <td>6.049</td>\n",
       "      <td>8.659</td>\n",
       "      <td>0.952</td>\n",
       "      <td>64.0</td>\n",
       "      <td>0.954</td>\n",
       "      <td>0.061</td>\n",
       "      <td>0.536</td>\n",
       "      <td>1</td>\n",
       "      <td>0</td>\n",
       "      <td>0</td>\n",
       "      <td>0</td>\n",
       "      <td>1</td>\n",
       "      <td>0</td>\n",
       "      <td>0</td>\n",
       "      <td>0</td>\n",
       "    </tr>\n",
       "    <tr>\n",
       "      <th>6532</th>\n",
       "      <td>2.58</td>\n",
       "      <td>6.049</td>\n",
       "      <td>8.659</td>\n",
       "      <td>0.952</td>\n",
       "      <td>64.0</td>\n",
       "      <td>0.954</td>\n",
       "      <td>0.061</td>\n",
       "      <td>0.536</td>\n",
       "      <td>1</td>\n",
       "      <td>0</td>\n",
       "      <td>0</td>\n",
       "      <td>0</td>\n",
       "      <td>0</td>\n",
       "      <td>0</td>\n",
       "      <td>0</td>\n",
       "      <td>1</td>\n",
       "    </tr>\n",
       "    <tr>\n",
       "      <th>6533</th>\n",
       "      <td>2.17</td>\n",
       "      <td>6.049</td>\n",
       "      <td>8.659</td>\n",
       "      <td>0.952</td>\n",
       "      <td>64.0</td>\n",
       "      <td>0.954</td>\n",
       "      <td>0.061</td>\n",
       "      <td>0.536</td>\n",
       "      <td>0</td>\n",
       "      <td>1</td>\n",
       "      <td>0</td>\n",
       "      <td>0</td>\n",
       "      <td>0</td>\n",
       "      <td>1</td>\n",
       "      <td>0</td>\n",
       "      <td>0</td>\n",
       "    </tr>\n",
       "    <tr>\n",
       "      <th>6534</th>\n",
       "      <td>1.67</td>\n",
       "      <td>6.049</td>\n",
       "      <td>8.659</td>\n",
       "      <td>0.952</td>\n",
       "      <td>64.0</td>\n",
       "      <td>0.954</td>\n",
       "      <td>0.061</td>\n",
       "      <td>0.536</td>\n",
       "      <td>1</td>\n",
       "      <td>0</td>\n",
       "      <td>0</td>\n",
       "      <td>0</td>\n",
       "      <td>0</td>\n",
       "      <td>1</td>\n",
       "      <td>0</td>\n",
       "      <td>0</td>\n",
       "    </tr>\n",
       "    <tr>\n",
       "      <th>6535</th>\n",
       "      <td>1.46</td>\n",
       "      <td>6.049</td>\n",
       "      <td>8.659</td>\n",
       "      <td>0.952</td>\n",
       "      <td>64.0</td>\n",
       "      <td>0.954</td>\n",
       "      <td>0.061</td>\n",
       "      <td>0.536</td>\n",
       "      <td>1</td>\n",
       "      <td>0</td>\n",
       "      <td>0</td>\n",
       "      <td>0</td>\n",
       "      <td>0</td>\n",
       "      <td>0</td>\n",
       "      <td>1</td>\n",
       "      <td>0</td>\n",
       "    </tr>\n",
       "  </tbody>\n",
       "</table>\n",
       "<p>6536 rows × 16 columns</p>\n",
       "</div>"
      ],
      "text/plain": [
       "      suicides/100k pop  Life Ladder  Log GDP per capita  Social support  \\\n",
       "0                 18.88        4.634               9.142           0.821   \n",
       "1                  7.66        4.634               9.142           0.821   \n",
       "2                  6.25        4.634               9.142           0.821   \n",
       "3                  5.23        4.634               9.142           0.821   \n",
       "4                  5.22        4.634               9.142           0.821   \n",
       "...                 ...          ...                 ...             ...   \n",
       "6531               2.96        6.049               8.659           0.952   \n",
       "6532               2.58        6.049               8.659           0.952   \n",
       "6533               2.17        6.049               8.659           0.952   \n",
       "6534               1.67        6.049               8.659           0.952   \n",
       "6535               1.46        6.049               8.659           0.952   \n",
       "\n",
       "      Healthy life expectancy at birth  Freedom to make life choices  \\\n",
       "0                                 65.8                         0.529   \n",
       "1                                 65.8                         0.529   \n",
       "2                                 65.8                         0.529   \n",
       "3                                 65.8                         0.529   \n",
       "4                                 65.8                         0.529   \n",
       "...                                ...                           ...   \n",
       "6531                              64.0                         0.954   \n",
       "6532                              64.0                         0.954   \n",
       "6533                              64.0                         0.954   \n",
       "6534                              64.0                         0.954   \n",
       "6535                              64.0                         0.954   \n",
       "\n",
       "      Generosity  Perceptions of corruption  sex_female  sex_male  \\\n",
       "0         -0.009                      0.875           0         1   \n",
       "1         -0.009                      0.875           0         1   \n",
       "2         -0.009                      0.875           0         1   \n",
       "3         -0.009                      0.875           1         0   \n",
       "4         -0.009                      0.875           0         1   \n",
       "...          ...                        ...         ...       ...   \n",
       "6531       0.061                      0.536           1         0   \n",
       "6532       0.061                      0.536           1         0   \n",
       "6533       0.061                      0.536           0         1   \n",
       "6534       0.061                      0.536           1         0   \n",
       "6535       0.061                      0.536           1         0   \n",
       "\n",
       "      age_15-24 years  age_25-34 years  age_35-54 years  age_5-14 years  \\\n",
       "0                   0                0                0               0   \n",
       "1                   0                0                1               0   \n",
       "2                   0                0                0               0   \n",
       "3                   0                0                0               0   \n",
       "4                   0                1                0               0   \n",
       "...               ...              ...              ...             ...   \n",
       "6531                0                0                1               0   \n",
       "6532                0                0                0               0   \n",
       "6533                0                0                0               1   \n",
       "6534                0                0                0               1   \n",
       "6535                0                0                0               0   \n",
       "\n",
       "      age_55-74 years  age_75+ years  \n",
       "0                   0              1  \n",
       "1                   0              0  \n",
       "2                   1              0  \n",
       "3                   0              1  \n",
       "4                   0              0  \n",
       "...               ...            ...  \n",
       "6531                0              0  \n",
       "6532                0              1  \n",
       "6533                0              0  \n",
       "6534                0              0  \n",
       "6535                1              0  \n",
       "\n",
       "[6536 rows x 16 columns]"
      ]
     },
     "execution_count": 3,
     "metadata": {},
     "output_type": "execute_result"
    }
   ],
   "source": [
    "df"
   ]
  },
  {
   "cell_type": "code",
   "execution_count": 4,
   "metadata": {},
   "outputs": [
    {
     "data": {
      "text/html": [
       "<div>\n",
       "<style scoped>\n",
       "    .dataframe tbody tr th:only-of-type {\n",
       "        vertical-align: middle;\n",
       "    }\n",
       "\n",
       "    .dataframe tbody tr th {\n",
       "        vertical-align: top;\n",
       "    }\n",
       "\n",
       "    .dataframe thead th {\n",
       "        text-align: right;\n",
       "    }\n",
       "</style>\n",
       "<table border=\"1\" class=\"dataframe\">\n",
       "  <thead>\n",
       "    <tr style=\"text-align: right;\">\n",
       "      <th></th>\n",
       "      <th>Life Ladder</th>\n",
       "      <th>Log GDP per capita</th>\n",
       "      <th>Social support</th>\n",
       "      <th>Healthy life expectancy at birth</th>\n",
       "      <th>Freedom to make life choices</th>\n",
       "      <th>Generosity</th>\n",
       "      <th>Perceptions of corruption</th>\n",
       "      <th>sex_female</th>\n",
       "      <th>sex_male</th>\n",
       "      <th>age_15-24 years</th>\n",
       "      <th>age_25-34 years</th>\n",
       "      <th>age_35-54 years</th>\n",
       "      <th>age_5-14 years</th>\n",
       "      <th>age_55-74 years</th>\n",
       "      <th>age_75+ years</th>\n",
       "    </tr>\n",
       "  </thead>\n",
       "  <tbody>\n",
       "    <tr>\n",
       "      <th>0</th>\n",
       "      <td>4.634</td>\n",
       "      <td>9.142</td>\n",
       "      <td>0.821</td>\n",
       "      <td>65.8</td>\n",
       "      <td>0.529</td>\n",
       "      <td>-0.009</td>\n",
       "      <td>0.875</td>\n",
       "      <td>0</td>\n",
       "      <td>1</td>\n",
       "      <td>0</td>\n",
       "      <td>0</td>\n",
       "      <td>0</td>\n",
       "      <td>0</td>\n",
       "      <td>0</td>\n",
       "      <td>1</td>\n",
       "    </tr>\n",
       "    <tr>\n",
       "      <th>1</th>\n",
       "      <td>4.634</td>\n",
       "      <td>9.142</td>\n",
       "      <td>0.821</td>\n",
       "      <td>65.8</td>\n",
       "      <td>0.529</td>\n",
       "      <td>-0.009</td>\n",
       "      <td>0.875</td>\n",
       "      <td>0</td>\n",
       "      <td>1</td>\n",
       "      <td>0</td>\n",
       "      <td>0</td>\n",
       "      <td>1</td>\n",
       "      <td>0</td>\n",
       "      <td>0</td>\n",
       "      <td>0</td>\n",
       "    </tr>\n",
       "    <tr>\n",
       "      <th>2</th>\n",
       "      <td>4.634</td>\n",
       "      <td>9.142</td>\n",
       "      <td>0.821</td>\n",
       "      <td>65.8</td>\n",
       "      <td>0.529</td>\n",
       "      <td>-0.009</td>\n",
       "      <td>0.875</td>\n",
       "      <td>0</td>\n",
       "      <td>1</td>\n",
       "      <td>0</td>\n",
       "      <td>0</td>\n",
       "      <td>0</td>\n",
       "      <td>0</td>\n",
       "      <td>1</td>\n",
       "      <td>0</td>\n",
       "    </tr>\n",
       "    <tr>\n",
       "      <th>3</th>\n",
       "      <td>4.634</td>\n",
       "      <td>9.142</td>\n",
       "      <td>0.821</td>\n",
       "      <td>65.8</td>\n",
       "      <td>0.529</td>\n",
       "      <td>-0.009</td>\n",
       "      <td>0.875</td>\n",
       "      <td>1</td>\n",
       "      <td>0</td>\n",
       "      <td>0</td>\n",
       "      <td>0</td>\n",
       "      <td>0</td>\n",
       "      <td>0</td>\n",
       "      <td>0</td>\n",
       "      <td>1</td>\n",
       "    </tr>\n",
       "    <tr>\n",
       "      <th>4</th>\n",
       "      <td>4.634</td>\n",
       "      <td>9.142</td>\n",
       "      <td>0.821</td>\n",
       "      <td>65.8</td>\n",
       "      <td>0.529</td>\n",
       "      <td>-0.009</td>\n",
       "      <td>0.875</td>\n",
       "      <td>0</td>\n",
       "      <td>1</td>\n",
       "      <td>0</td>\n",
       "      <td>1</td>\n",
       "      <td>0</td>\n",
       "      <td>0</td>\n",
       "      <td>0</td>\n",
       "      <td>0</td>\n",
       "    </tr>\n",
       "  </tbody>\n",
       "</table>\n",
       "</div>"
      ],
      "text/plain": [
       "   Life Ladder  Log GDP per capita  Social support  \\\n",
       "0        4.634               9.142           0.821   \n",
       "1        4.634               9.142           0.821   \n",
       "2        4.634               9.142           0.821   \n",
       "3        4.634               9.142           0.821   \n",
       "4        4.634               9.142           0.821   \n",
       "\n",
       "   Healthy life expectancy at birth  Freedom to make life choices  Generosity  \\\n",
       "0                              65.8                         0.529      -0.009   \n",
       "1                              65.8                         0.529      -0.009   \n",
       "2                              65.8                         0.529      -0.009   \n",
       "3                              65.8                         0.529      -0.009   \n",
       "4                              65.8                         0.529      -0.009   \n",
       "\n",
       "   Perceptions of corruption  sex_female  sex_male  age_15-24 years  \\\n",
       "0                      0.875           0         1                0   \n",
       "1                      0.875           0         1                0   \n",
       "2                      0.875           0         1                0   \n",
       "3                      0.875           1         0                0   \n",
       "4                      0.875           0         1                0   \n",
       "\n",
       "   age_25-34 years  age_35-54 years  age_5-14 years  age_55-74 years  \\\n",
       "0                0                0               0                0   \n",
       "1                0                1               0                0   \n",
       "2                0                0               0                1   \n",
       "3                0                0               0                0   \n",
       "4                1                0               0                0   \n",
       "\n",
       "   age_75+ years  \n",
       "0              1  \n",
       "1              0  \n",
       "2              0  \n",
       "3              1  \n",
       "4              0  "
      ]
     },
     "execution_count": 4,
     "metadata": {},
     "output_type": "execute_result"
    }
   ],
   "source": [
    "x = df.drop(columns=['suicides/100k pop'])\n",
    "x.head()"
   ]
  },
  {
   "cell_type": "code",
   "execution_count": 5,
   "metadata": {},
   "outputs": [
    {
     "data": {
      "text/plain": [
       "0    18.88\n",
       "1     7.66\n",
       "2     6.25\n",
       "3     5.23\n",
       "4     5.22\n",
       "Name: suicides/100k pop, dtype: float64"
      ]
     },
     "execution_count": 5,
     "metadata": {},
     "output_type": "execute_result"
    }
   ],
   "source": [
    "y = df['suicides/100k pop']\n",
    "y.head()"
   ]
  },
  {
   "cell_type": "markdown",
   "metadata": {},
   "source": [
    "# Linear Regression"
   ]
  },
  {
   "cell_type": "markdown",
   "metadata": {},
   "source": [
    "## Linear Regression Multiple Variable"
   ]
  },
  {
   "cell_type": "code",
   "execution_count": 6,
   "metadata": {},
   "outputs": [
    {
     "name": "stdout",
     "output_type": "stream",
     "text": [
      "Intercept of Regression \t: b =  -36.599355738659305\n",
      "Coefficients of Regression \t: a =  [ -2.10705822   3.57090816  42.51583623  -0.14666195  -2.87417186\n",
      " -12.50106799   0.60883562  -7.44885335   7.44885335  -3.50286742\n",
      "  -0.95614953   2.34002769 -11.26301125   3.29477915  10.08722136]\n",
      "\n"
     ]
    }
   ],
   "source": [
    "# Import essential models and functions from sklearn\n",
    "from sklearn.linear_model import LinearRegression\n",
    "from sklearn.model_selection import train_test_split\n",
    "from sklearn.metrics import mean_squared_error\n",
    "\n",
    "# Split the Dataset into Train and Test\n",
    "x_train, x_test, y_train, y_test = train_test_split(x, y, test_size = 0.25, random_state=37)\n",
    "\n",
    "# Linear Regression using Train Data\n",
    "linreg = LinearRegression()         # create the linear regression object\n",
    "linreg.fit(x_train, y_train)        # train the linear regression model\n",
    "\n",
    "# Coefficients of the Linear Regression line\n",
    "print('Intercept of Regression \\t: b = ', linreg.intercept_)\n",
    "print('Coefficients of Regression \\t: a = ', linreg.coef_)\n",
    "print()\n",
    "\n",
    "# Predict Response corresponding to Predictors\n",
    "y_train_pred = linreg.predict(x_train)\n",
    "y_test_pred = linreg.predict(x_test)"
   ]
  },
  {
   "cell_type": "code",
   "execution_count": 7,
   "metadata": {},
   "outputs": [
    {
     "data": {
      "image/png": "[encoded data removed]",
      "text/plain": [
       "<Figure size 864x576 with 1 Axes>"
      ]
     },
     "metadata": {},
     "output_type": "display_data"
    },
    {
     "name": "stdout",
     "output_type": "stream",
     "text": [
      "Goodness of Fit of Model \tTrain Dataset\n",
      "Explained Variance (R^2) \t: 0.43560490411395203\n",
      "Mean Squared Error (MSE) \t: 145.6927231966317\n",
      "\n"
     ]
    }
   ],
   "source": [
    "# Plot the Predictions vs the True values\n",
    "f = plt.figure(figsize=(12, 8))\n",
    "plt.scatter(y_train, y_train_pred, color = \"blue\")\n",
    "plt.plot(y_train, y_train, 'black', linewidth = 3)\n",
    "plt.show()\n",
    "\n",
    "# Check the Goodness of Fit (on Train Data)\n",
    "print(\"Goodness of Fit of Model \\tTrain Dataset\")\n",
    "print(\"Explained Variance (R^2) \\t:\", linreg.score(x_train, y_train))\n",
    "print(\"Mean Squared Error (MSE) \\t:\", mean_squared_error(y_train, y_train_pred))\n",
    "print()"
   ]
  },
  {
   "cell_type": "code",
   "execution_count": 8,
   "metadata": {},
   "outputs": [
    {
     "data": {
      "image/png": "[encoded data removed]",
      "text/plain": [
       "<Figure size 864x576 with 1 Axes>"
      ]
     },
     "metadata": {},
     "output_type": "display_data"
    },
    {
     "name": "stdout",
     "output_type": "stream",
     "text": [
      "Goodness of Fit of Model \tTest Dataset\n",
      "Explained Variance (R^2) \t: 0.3792488372840963\n",
      "Mean Squared Error (MSE) \t: 142.24942348244423\n",
      "\n"
     ]
    }
   ],
   "source": [
    "f = plt.figure(figsize=(12, 8))\n",
    "plt.scatter(y_test, y_test_pred, color = \"green\")\n",
    "plt.plot(y_test, y_test, 'black', linewidth = 3)\n",
    "plt.show()\n",
    "# Check the Goodness of Fit (on Test Data)\n",
    "print(\"Goodness of Fit of Model \\tTest Dataset\")\n",
    "print(\"Explained Variance (R^2) \\t:\", linreg.score(x_test, y_test))\n",
    "print(\"Mean Squared Error (MSE) \\t:\", mean_squared_error(y_test, y_test_pred))\n",
    "print()"
   ]
  },
  {
   "cell_type": "code",
   "execution_count": null,
   "metadata": {},
   "outputs": [],
   "source": []
  },
  {
   "cell_type": "markdown",
   "metadata": {},
   "source": [
    "## Linear Regression Specific Variable"
   ]
  },
  {
   "cell_type": "markdown",
   "metadata": {},
   "source": [
    "### Sex and Age Bracket"
   ]
  },
  {
   "cell_type": "code",
   "execution_count": 9,
   "metadata": {},
   "outputs": [
    {
     "name": "stdout",
     "output_type": "stream",
     "text": [
      "Intercept of Regression \t: b =  -150248018010497.16\n",
      "Coefficients of Regression \t: a =  [2.64797735e+13 2.64797735e+13 1.23768245e+14 1.23768245e+14\n",
      " 1.23768245e+14 1.23768245e+14 1.23768245e+14 1.23768245e+14]\n",
      "\n"
     ]
    }
   ],
   "source": [
    "selected_x = pd.DataFrame(x[['sex_female','sex_male','age_15-24 years','age_25-34 years','age_35-54 years','age_5-14 years','age_55-74 years','age_75+ years']])\n",
    "# Split the Dataset into Train and Test\n",
    "x_train, x_test, y_train, y_test = train_test_split(selected_x, y, test_size = 0.25, random_state=37)\n",
    "\n",
    "# Linear Regression using Train Data\n",
    "linreg = LinearRegression()         # create the linear regression object\n",
    "linreg.fit(x_train, y_train)        # train the linear regression model\n",
    "\n",
    "# Coefficients of the Linear Regression line\n",
    "print('Intercept of Regression \\t: b = ', linreg.intercept_)\n",
    "print('Coefficients of Regression \\t: a = ', linreg.coef_)\n",
    "print()\n",
    "\n",
    "# Predict Response corresponding to Predictors\n",
    "y_train_pred = linreg.predict(x_train)\n",
    "y_test_pred = linreg.predict(x_test)"
   ]
  },
  {
   "cell_type": "code",
   "execution_count": 10,
   "metadata": {},
   "outputs": [
    {
     "data": {
      "image/png": "[encoded data removed]",
      "text/plain": [
       "<Figure size 864x576 with 1 Axes>"
      ]
     },
     "metadata": {},
     "output_type": "display_data"
    },
    {
     "name": "stdout",
     "output_type": "stream",
     "text": [
      "Goodness of Fit of Model \tTrain Dataset\n",
      "Explained Variance (R^2) \t: 0.3775344667549685\n",
      "Mean Squared Error (MSE) \t: 160.6830025553983\n",
      "\n"
     ]
    }
   ],
   "source": [
    "f = plt.figure(figsize=(12, 8))\n",
    "plt.scatter(y_train, y_train_pred, color = \"blue\")\n",
    "plt.plot(y_train, y_train, 'black', linewidth = 3)\n",
    "plt.show()\n",
    "\n",
    "# Check the Goodness of Fit (on Train Data)\n",
    "print(\"Goodness of Fit of Model \\tTrain Dataset\")\n",
    "print(\"Explained Variance (R^2) \\t:\", linreg.score(x_train, y_train))\n",
    "print(\"Mean Squared Error (MSE) \\t:\", mean_squared_error(y_train, y_train_pred))\n",
    "print()"
   ]
  },
  {
   "cell_type": "code",
   "execution_count": 11,
   "metadata": {},
   "outputs": [
    {
     "data": {
      "image/png": "[encoded data removed]",
      "text/plain": [
       "<Figure size 864x576 with 1 Axes>"
      ]
     },
     "metadata": {},
     "output_type": "display_data"
    },
    {
     "name": "stdout",
     "output_type": "stream",
     "text": [
      "Goodness of Fit of Model \tTest Dataset\n",
      "Explained Variance (R^2) \t: 0.3372136544669132\n",
      "Mean Squared Error (MSE) \t: 151.88207643723226\n",
      "\n"
     ]
    }
   ],
   "source": [
    "f = plt.figure(figsize=(12, 8))\n",
    "plt.scatter(y_test, y_test_pred, color = \"green\")\n",
    "plt.plot(y_test, y_test, 'black', linewidth = 3)\n",
    "plt.show()\n",
    "# Check the Goodness of Fit (on Test Data)\n",
    "print(\"Goodness of Fit of Model \\tTest Dataset\")\n",
    "print(\"Explained Variance (R^2) \\t:\", linreg.score(x_test, y_test))\n",
    "print(\"Mean Squared Error (MSE) \\t:\", mean_squared_error(y_test, y_test_pred))\n",
    "print()"
   ]
  },
  {
   "cell_type": "markdown",
   "metadata": {},
   "source": [
    "### Countries"
   ]
  },
  {
   "cell_type": "code",
   "execution_count": 12,
   "metadata": {},
   "outputs": [
    {
     "name": "stdout",
     "output_type": "stream",
     "text": [
      "Intercept of Regression \t: b =  -34.195633086855985\n",
      "Coefficients of Regression \t: a =  [ -2.16672688   3.39668839  42.25266323  -0.14663277  -3.0144824\n",
      " -11.57064193   0.81067788]\n",
      "\n"
     ]
    }
   ],
   "source": [
    "selected_x = pd.DataFrame(x[['Life Ladder','Log GDP per capita','Social support','Healthy life expectancy at birth','Freedom to make life choices','Generosity','Perceptions of corruption']])\n",
    "# Split the Dataset into Train and Test\n",
    "x_train, x_test, y_train, y_test = train_test_split(selected_x, y, test_size = 0.25, random_state=37)\n",
    "\n",
    "# Linear Regression using Train Data\n",
    "linreg = LinearRegression()         # create the linear regression object\n",
    "linreg.fit(x_train, y_train)        # train the linear regression model\n",
    "\n",
    "# Coefficients of the Linear Regression line\n",
    "print('Intercept of Regression \\t: b = ', linreg.intercept_)\n",
    "print('Coefficients of Regression \\t: a = ', linreg.coef_)\n",
    "print()\n",
    "\n",
    "# Predict Response corresponding to Predictors\n",
    "y_train_pred = linreg.predict(x_train)\n",
    "y_test_pred = linreg.predict(x_test)"
   ]
  },
  {
   "cell_type": "code",
   "execution_count": 13,
   "metadata": {},
   "outputs": [
    {
     "data": {
      "image/png": "[encoded data removed]",
      "text/plain": [
       "<Figure size 864x576 with 1 Axes>"
      ]
     },
     "metadata": {},
     "output_type": "display_data"
    },
    {
     "name": "stdout",
     "output_type": "stream",
     "text": [
      "Goodness of Fit of Model \tTrain Dataset\n",
      "Explained Variance (R^2) \t: 0.05475364758190382\n",
      "Mean Squared Error (MSE) \t: 244.00551347682227\n",
      "\n"
     ]
    }
   ],
   "source": [
    "f = plt.figure(figsize=(12, 8))\n",
    "plt.scatter(y_train, y_train_pred, color = \"blue\")\n",
    "plt.plot(y_train, y_train, 'black', linewidth = 3)\n",
    "plt.show()\n",
    "\n",
    "# Check the Goodness of Fit (on Train Data)\n",
    "print(\"Goodness of Fit of Model \\tTrain Dataset\")\n",
    "print(\"Explained Variance (R^2) \\t:\", linreg.score(x_train, y_train))\n",
    "print(\"Mean Squared Error (MSE) \\t:\", mean_squared_error(y_train, y_train_pred))\n",
    "print()"
   ]
  },
  {
   "cell_type": "code",
   "execution_count": 14,
   "metadata": {},
   "outputs": [
    {
     "data": {
      "image/png": "[encoded data removed]",
      "text/plain": [
       "<Figure size 864x576 with 1 Axes>"
      ]
     },
     "metadata": {},
     "output_type": "display_data"
    },
    {
     "name": "stdout",
     "output_type": "stream",
     "text": [
      "Goodness of Fit of Model \tTest Dataset\n",
      "Explained Variance (R^2) \t: 0.05194495042021052\n",
      "Mean Squared Error (MSE) \t: 217.2533735455378\n",
      "\n"
     ]
    }
   ],
   "source": [
    "f = plt.figure(figsize=(12, 8))\n",
    "plt.scatter(y_test, y_test_pred, color = \"green\")\n",
    "plt.plot(y_test, y_test, 'black', linewidth = 3)\n",
    "plt.show()\n",
    "# Check the Goodness of Fit (on Test Data)\n",
    "print(\"Goodness of Fit of Model \\tTest Dataset\")\n",
    "print(\"Explained Variance (R^2) \\t:\", linreg.score(x_test, y_test))\n",
    "print(\"Mean Squared Error (MSE) \\t:\", mean_squared_error(y_test, y_test_pred))\n",
    "print()"
   ]
  },
  {
   "cell_type": "markdown",
   "metadata": {},
   "source": [
    "---\n",
    "# KNeighbourhoodRegressor"
   ]
  },
  {
   "cell_type": "code",
   "execution_count": 15,
   "metadata": {},
   "outputs": [],
   "source": [
    "from sklearn.neighbors import KNeighborsRegressor\n",
    "from sklearn.model_selection import GridSearchCV\n",
    "from sklearn.preprocessing import MinMaxScaler\n",
    "from sklearn.metrics import mean_squared_error, r2_score\n",
    "from math import sqrt"
   ]
  },
  {
   "cell_type": "code",
   "execution_count": 16,
   "metadata": {},
   "outputs": [],
   "source": [
    "x_train, x_test, y_train, y_test = train_test_split(x, y, test_size = 0.20, random_state=37)"
   ]
  },
  {
   "cell_type": "code",
   "execution_count": 17,
   "metadata": {},
   "outputs": [
    {
     "name": "stdout",
     "output_type": "stream",
     "text": [
      "     K  Test Score  Train Score\n",
      "0    1    0.583092     1.000000\n",
      "1    2    0.662673     0.913172\n",
      "2    3    0.682457     0.865351\n",
      "3    4    0.657322     0.835662\n",
      "4    5    0.658798     0.814289\n",
      "5    6    0.647626     0.795328\n",
      "6    7    0.644342     0.777416\n",
      "7    8    0.641605     0.764541\n",
      "8    9    0.630789     0.749307\n",
      "9   10    0.625761     0.738751\n",
      "10  11    0.617168     0.727432\n",
      "11  12    0.604477     0.722969\n",
      "12  13    0.599481     0.717181\n",
      "13  14    0.593764     0.712757\n",
      "14  15    0.590703     0.707566\n",
      "15  16    0.584327     0.702743\n",
      "16  17    0.582719     0.698270\n",
      "17  18    0.581263     0.694664\n",
      "18  19    0.583859     0.690009\n"
     ]
    }
   ],
   "source": [
    "k_arr = []\n",
    "for i in range(1,20,1):\n",
    "    knn = KNeighborsRegressor(n_neighbors=i)\n",
    "    knn.fit(x_train,y_train)\n",
    "    test_score = knn.score(x_test,y_test)\n",
    "    train_score = knn.score(x_train,y_train)\n",
    "    k_arr.append((i, test_score ,train_score))\n",
    "dataframe_arr = pd.DataFrame(k_arr, columns=['K','Test Score','Train Score'])\n",
    "print(dataframe_arr)"
   ]
  },
  {
   "cell_type": "code",
   "execution_count": 18,
   "metadata": {},
   "outputs": [
    {
     "name": "stdout",
     "output_type": "stream",
     "text": [
      "Root Mean Square Error for k=1: 9.210078813908694\n",
      "Root Mean Square Error for k=2: 8.284546198484973\n",
      "Root Mean Square Error for k=3: 8.037936124023194\n",
      "Root Mean Square Error for k=4: 8.349993012252382\n",
      "Root Mean Square Error for k=5: 8.331997590990357\n",
      "Root Mean Square Error for k=6: 8.467308761631278\n",
      "Root Mean Square Error for k=7: 8.506667544922642\n",
      "Root Mean Square Error for k=8: 8.53933501449186\n",
      "Root Mean Square Error for k=9: 8.667231890890543\n",
      "Root Mean Square Error for k=10: 8.726048169429205\n",
      "Root Mean Square Error for k=11: 8.825669254492743\n",
      "Root Mean Square Error for k=12: 8.970756186422365\n",
      "Root Mean Square Error for k=13: 9.027238196829552\n",
      "Root Mean Square Error for k=14: 9.09143855614321\n",
      "Root Mean Square Error for k=15: 9.125620367128327\n",
      "Root Mean Square Error for k=16: 9.196425213933125\n",
      "Root Mean Square Error for k=17: 9.214196581945204\n",
      "Root Mean Square Error for k=18: 9.230258888461657\n",
      "Root Mean Square Error for k=19: 9.201603727920464\n",
      "Root Mean Square Error for k=20: 9.179743332002115\n"
     ]
    }
   ],
   "source": [
    "rmse_arr = [] #to store rmse values for different k\n",
    "for i in range(20):\n",
    "    i = i+1\n",
    "    model = KNeighborsRegressor(n_neighbors = i)\n",
    "\n",
    "    model.fit(x_train, y_train)  #fit the model\n",
    "    pred=model.predict(x_test) #make prediction on test set\n",
    "    err = sqrt(mean_squared_error(y_test,pred)) #calculate rmse\n",
    "    rmse_arr.append(err) #store rmse values\n",
    "    print(f'Root Mean Square Error for k={i}: {err}')"
   ]
  },
  {
   "cell_type": "code",
   "execution_count": 19,
   "metadata": {},
   "outputs": [
    {
     "data": {
      "text/plain": [
       "<AxesSubplot:>"
      ]
     },
     "execution_count": 19,
     "metadata": {},
     "output_type": "execute_result"
    },
    {
     "data": {
      "image/png": "[encoded data removed]",
      "text/plain": [
       "<Figure size 432x288 with 1 Axes>"
      ]
     },
     "metadata": {},
     "output_type": "display_data"
    }
   ],
   "source": [
    "f = pd.DataFrame(rmse_arr) #elbow curve \n",
    "f.plot()"
   ]
  },
  {
   "cell_type": "code",
   "execution_count": 20,
   "metadata": {},
   "outputs": [
    {
     "data": {
      "text/plain": [
       "{'n_neighbors': 3}"
      ]
     },
     "execution_count": 20,
     "metadata": {},
     "output_type": "execute_result"
    }
   ],
   "source": [
    "params = {'n_neighbors':[2,3,4,5,6,7,8,9]}\n",
    "knn = KNeighborsRegressor()\n",
    "\n",
    "model = GridSearchCV(knn, params, cv=5)\n",
    "model.fit(x_train,y_train)\n",
    "model.best_params_"
   ]
  },
  {
   "cell_type": "code",
   "execution_count": 21,
   "metadata": {},
   "outputs": [
    {
     "data": {
      "text/plain": [
       "KNeighborsRegressor(n_neighbors=3)"
      ]
     },
     "execution_count": 21,
     "metadata": {},
     "output_type": "execute_result"
    }
   ],
   "source": [
    "knn = KNeighborsRegressor(n_neighbors=3)\n",
    "knn.fit(x_train,y_train)"
   ]
  },
  {
   "cell_type": "code",
   "execution_count": 22,
   "metadata": {},
   "outputs": [
    {
     "name": "stdout",
     "output_type": "stream",
     "text": [
      "0.6824570358624201\n"
     ]
    }
   ],
   "source": [
    "print(knn.score(x_test, y_test))"
   ]
  },
  {
   "cell_type": "code",
   "execution_count": 23,
   "metadata": {},
   "outputs": [],
   "source": [
    "y_predict=knn.predict(x_test)"
   ]
  },
  {
   "cell_type": "code",
   "execution_count": 24,
   "metadata": {},
   "outputs": [
    {
     "data": {
      "image/png": "[encoded data removed]",
      "text/plain": [
       "<Figure size 864x576 with 1 Axes>"
      ]
     },
     "metadata": {},
     "output_type": "display_data"
    }
   ],
   "source": [
    "f = plt.figure(figsize=(12, 8))\n",
    "plt.scatter(y_test, y_predict, color = \"red\")\n",
    "plt.plot(y_test, y_test, 'black', linewidth = 3)\n",
    "plt.show()"
   ]
  },
  {
   "cell_type": "code",
   "execution_count": 25,
   "metadata": {},
   "outputs": [
    {
     "data": {
      "text/plain": [
       "0.6443231889983331"
      ]
     },
     "execution_count": 25,
     "metadata": {},
     "output_type": "execute_result"
    }
   ],
   "source": [
    "r2_score(y_predict,y_test)"
   ]
  },
  {
   "cell_type": "code",
   "execution_count": 26,
   "metadata": {},
   "outputs": [],
   "source": [
    "scaler = MinMaxScaler(feature_range=(0, 1))\n",
    "x_train_scaled = pd.DataFrame(scaler.fit_transform(x_train))\n",
    "x_test_scaled = pd.DataFrame(scaler.fit_transform(x_test))"
   ]
  },
  {
   "cell_type": "code",
   "execution_count": 27,
   "metadata": {},
   "outputs": [
    {
     "data": {
      "text/plain": [
       "KNeighborsRegressor(n_neighbors=3)"
      ]
     },
     "execution_count": 27,
     "metadata": {},
     "output_type": "execute_result"
    }
   ],
   "source": [
    "knn = KNeighborsRegressor(n_neighbors=3)\n",
    "knn.fit(x_train_scaled,y_train)"
   ]
  },
  {
   "cell_type": "code",
   "execution_count": 28,
   "metadata": {},
   "outputs": [
    {
     "name": "stdout",
     "output_type": "stream",
     "text": [
      "0.7454876400972273\n"
     ]
    }
   ],
   "source": [
    "print(knn.score(x_test_scaled, y_test))"
   ]
  },
  {
   "cell_type": "code",
   "execution_count": 29,
   "metadata": {},
   "outputs": [
    {
     "ename": "NameError",
     "evalue": "name 'scaled' is not defined",
     "output_type": "error",
     "traceback": [
      "\u001b[1;31m---------------------------------------------------------------------------\u001b[0m",
      "\u001b[1;31mNameError\u001b[0m                                 Traceback (most recent call last)",
      "\u001b[1;32m<ipython-input-29-687b8b34fe75>\u001b[0m in \u001b[0;36m<module>\u001b[1;34m\u001b[0m\n\u001b[1;32m----> 1\u001b[1;33m \u001b[0my_predict_scaled\u001b[0m\u001b[1;33m=\u001b[0m\u001b[0mknn\u001b[0m\u001b[1;33m.\u001b[0m\u001b[0mpredict\u001b[0m\u001b[1;33m(\u001b[0m\u001b[0mx_test\u001b[0m\u001b[1;33m+\u001b[0m\u001b[0mscaled\u001b[0m\u001b[1;33m)\u001b[0m\u001b[1;33m\u001b[0m\u001b[1;33m\u001b[0m\u001b[0m\n\u001b[0m",
      "\u001b[1;31mNameError\u001b[0m: name 'scaled' is not defined"
     ]
    }
   ],
   "source": [
    "y_predict_scaled=knn.predict(x_test+scaled)"
   ]
  },
  {
   "cell_type": "code",
   "execution_count": null,
   "metadata": {},
   "outputs": [],
   "source": [
    "f = plt.figure(figsize=(12, 8))\n",
    "plt.scatter(y_test, y_predict_scaled, color = \"red\")\n",
    "plt.plot(y_test, y_test, 'black', linewidth = 3)\n",
    "plt.show()"
   ]
  },
  {
   "cell_type": "markdown",
   "metadata": {},
   "source": [
    "---\n",
    "# Random Forest Regressor"
   ]
  },
  {
   "cell_type": "code",
   "execution_count": null,
   "metadata": {},
   "outputs": [],
   "source": [
    "from sklearn.ensemble import RandomForestRegressor"
   ]
  },
  {
   "cell_type": "code",
   "execution_count": null,
   "metadata": {},
   "outputs": [],
   "source": [
    "x_train, x_test, y_train, y_test = train_test_split(x, y, test_size = 0.20, random_state=37)"
   ]
  },
  {
   "cell_type": "code",
   "execution_count": null,
   "metadata": {
    "scrolled": true
   },
   "outputs": [],
   "source": [
    "rf = RandomForestRegressor(n_estimators = 1000, random_state = 37)\n",
    "rf.fit(x_train, y_train)\n",
    "print(f\"Train:{rf.score(x_train,y_train)} Test:{rf.score(x_test,y_test)}\")"
   ]
  },
  {
   "cell_type": "code",
   "execution_count": null,
   "metadata": {},
   "outputs": [],
   "source": [
    "print(rf.score(x_test, y_test))"
   ]
  },
  {
   "cell_type": "code",
   "execution_count": null,
   "metadata": {},
   "outputs": [],
   "source": [
    "y_predict=rf.predict(x_test)"
   ]
  },
  {
   "cell_type": "code",
   "execution_count": null,
   "metadata": {
    "scrolled": false
   },
   "outputs": [],
   "source": [
    "f = plt.figure(figsize=(12, 8))\n",
    "plt.scatter(y_predict, y_test, color = \"purple\")\n",
    "plt.plot(y_test, y_test, 'black', linewidth = 3)\n",
    "plt.show()"
   ]
  },
  {
   "cell_type": "code",
   "execution_count": null,
   "metadata": {},
   "outputs": [],
   "source": [
    "r2_score(y_predict,y_test)"
   ]
  },
  {
   "cell_type": "markdown",
   "metadata": {},
   "source": [
    "## Gradient Boosting Regression"
   ]
  },
  {
   "cell_type": "code",
   "execution_count": null,
   "metadata": {},
   "outputs": [],
   "source": [
    "x_train,x_test, y_train, y_test = train_test_split(x, y, test_size=0.2, random_state=37)"
   ]
  },
  {
   "cell_type": "code",
   "execution_count": null,
   "metadata": {},
   "outputs": [],
   "source": [
    "from sklearn.ensemble import GradientBoostingRegressor"
   ]
  },
  {
   "cell_type": "code",
   "execution_count": null,
   "metadata": {},
   "outputs": [],
   "source": [
    "params = {'learning_rate': [0.1, 0.05, 0.02, 0.01],\n",
    "            'max_depth': [4, 6],\n",
    "            'min_samples_leaf': [3, 5, 9, 17],\n",
    "            'max_features': [1.0, 0.3, 0.1]\n",
    "}\n",
    "gb = GradientBoostingRegressor()\n",
    "\n",
    "model = GridSearchCV(gb, params, cv=5, n_jobs=-1)\n",
    "model.fit(x_train,y_train)\n",
    "model.best_params_"
   ]
  },
  {
   "cell_type": "code",
   "execution_count": null,
   "metadata": {},
   "outputs": [],
   "source": [
    "gb = GradientBoostingRegressor(n_estimators=1000, learning_rate= 0.1, max_depth = 6,max_features = 1.0, min_samples_leaf = 3)\n",
    "gb.fit(x_train,y_train)"
   ]
  },
  {
   "cell_type": "code",
   "execution_count": null,
   "metadata": {},
   "outputs": [],
   "source": [
    "gb.score(x_test, y_test)"
   ]
  },
  {
   "cell_type": "code",
   "execution_count": null,
   "metadata": {},
   "outputs": [],
   "source": [
    "y_predict=gb.predict(x_test)"
   ]
  },
  {
   "cell_type": "code",
   "execution_count": null,
   "metadata": {},
   "outputs": [],
   "source": [
    "f = plt.figure(figsize=(12, 8))\n",
    "plt.scatter(y_test, y_predict, color = \"red\")\n",
    "plt.plot(y_test, y_test, 'black', linewidth = 3)\n",
    "plt.show()"
   ]
  },
  {
   "cell_type": "code",
   "execution_count": null,
   "metadata": {},
   "outputs": [],
   "source": [
    "r2_score(y_predict,y_test)"
   ]
  },
  {
   "cell_type": "markdown",
   "metadata": {},
   "source": [
    "## Voting Regressor"
   ]
  },
  {
   "cell_type": "code",
   "execution_count": null,
   "metadata": {},
   "outputs": [],
   "source": [
    "from sklearn.ensemble import VotingRegressor"
   ]
  },
  {
   "cell_type": "code",
   "execution_count": null,
   "metadata": {},
   "outputs": [],
   "source": [
    "x_train, x_test, y_train, y_test = train_test_split(x, y, test_size=0.2, random_state=37)"
   ]
  },
  {
   "cell_type": "code",
   "execution_count": null,
   "metadata": {},
   "outputs": [],
   "source": [
    "scaler = MinMaxScaler(feature_range=(0, 1))\n",
    "x_train_scaled = pd.DataFrame(scaler.fit_transform(x_train))\n",
    "x_test_scaled = pd.DataFrame(scaler.fit_transform(x_test))\n",
    "\n",
    "reg1 = KNeighborsRegressor(n_neighbors=3)\n",
    "reg1.fit(x_train_scaled,y_train)\n",
    "\n",
    "reg2 = RandomForestRegressor(n_estimators = 1000, random_state = 37)\n",
    "reg2.fit(x_train,y_train)\n",
    "\n",
    "reg3 = GradientBoostingRegressor(n_estimators=1000, learning_rate= 0.1, max_depth = 6,max_features = 1.0, min_samples_leaf = 3)\n",
    "reg3.fit(x_train,y_train)\n",
    "\n",
    "reg4 = VotingRegressor([(\"knn\", reg1), (\"rf\", reg2), (\"gb\", reg3)])\n",
    "reg4.fit(x_train,y_train)"
   ]
  },
  {
   "cell_type": "code",
   "execution_count": null,
   "metadata": {},
   "outputs": [],
   "source": [
    "xt = x_test[:50]\n",
    "xt_scaled =x_test_scaled[:50]\n",
    "\n",
    "pred1 = reg1.predict(xt_scaled)\n",
    "pred2 = reg2.predict(xt)\n",
    "pred3 = reg3.predict(xt)\n",
    "pred4 = reg4.predict(xt)"
   ]
  },
  {
   "cell_type": "code",
   "execution_count": null,
   "metadata": {},
   "outputs": [],
   "source": [
    "plt.figure(figsize=(12, 8))\n",
    "plt.plot(pred1, \"bo\", label=\"KNeighborsRegressor\")\n",
    "plt.plot(pred2, \"go\", label=\"RandomForestRegressor\")\n",
    "plt.plot(pred1, \"yo\", label=\"GradientBoostingRegressor\")\n",
    "plt.plot(pred4, \"r*\", ms=10, label=\"VotingRegressor\")\n",
    "\n",
    "plt.tick_params(axis=\"x\", which=\"both\", bottom=False, top=False, labelbottom=False)\n",
    "plt.ylabel(\"predicted\")\n",
    "plt.xlabel(\"training samples\")\n",
    "plt.legend(loc=\"best\")\n",
    "plt.title(\"Regressor predictions and their average\")\n",
    "\n",
    "plt.show()"
   ]
  },
  {
   "cell_type": "code",
   "execution_count": null,
   "metadata": {},
   "outputs": [],
   "source": [
    "reg4.score(x_test, y_test)"
   ]
  },
  {
   "cell_type": "code",
   "execution_count": null,
   "metadata": {},
   "outputs": [],
   "source": [
    "y_predict=reg4.predict(x_test)"
   ]
  },
  {
   "cell_type": "code",
   "execution_count": null,
   "metadata": {
    "scrolled": false
   },
   "outputs": [],
   "source": [
    "f = plt.figure(figsize=(12, 8))\n",
    "plt.scatter(y_test, y_predict, color = \"chocolate\")\n",
    "plt.plot(y_test, y_test, 'black', linewidth = 3)\n",
    "plt.show()"
   ]
  },
  {
   "cell_type": "code",
   "execution_count": null,
   "metadata": {},
   "outputs": [],
   "source": [
    "r2_score(y_predict,y_test)"
   ]
  },
  {
   "cell_type": "markdown",
   "metadata": {},
   "source": [
    "## Conclusion"
   ]
  },
  {
   "cell_type": "code",
   "execution_count": null,
   "metadata": {},
   "outputs": [],
   "source": [
    "x_train, x_test, y_train, y_test = train_test_split(x, y, test_size=0.2, random_state=37)"
   ]
  },
  {
   "cell_type": "code",
   "execution_count": null,
   "metadata": {},
   "outputs": [],
   "source": [
    "scaler = MinMaxScaler(feature_range=(0, 1))\n",
    "x_train_scaled = pd.DataFrame(scaler.fit_transform(x_train))\n",
    "x_test_scaled = pd.DataFrame(scaler.fit_transform(x_test))"
   ]
  },
  {
   "cell_type": "code",
   "execution_count": null,
   "metadata": {},
   "outputs": [],
   "source": [
    "f = plt.figure(figsize=(12, 8))\n",
    "\n",
    "pred1 = reg1.predict(x_test_scaled)\n",
    "pred2 = reg2.predict(x_test)\n",
    "pred3 = reg3.predict(x_test)\n",
    "pred4 = reg4.predict(x_test)\n",
    "\n",
    "plt.scatter(pred1, y_test, color = \"tab:blue\")\n",
    "plt.scatter(pred2, y_test, color = \"tab:orange\")\n",
    "plt.scatter(pred3, y_test, color = \"tab:green\")\n",
    "plt.scatter(pred4, y_test, color = \"tab:red\")\n",
    "plt.plot(y_test, y_test, 'black', linewidth = 3)\n",
    "plt.show()"
   ]
  },
  {
   "cell_type": "code",
   "execution_count": null,
   "metadata": {},
   "outputs": [],
   "source": [
    "print(reg1.score(x_test_scaled, y_test))\n",
    "print(reg2.score(x_test, y_test))\n",
    "print(reg3.score(x_test, y_test))\n",
    "print(reg4.score(x_test, y_test))"
   ]
  },
  {
   "cell_type": "code",
   "execution_count": null,
   "metadata": {},
   "outputs": [],
   "source": []
  },
  {
   "cell_type": "code",
   "execution_count": null,
   "metadata": {},
   "outputs": [],
   "source": []
  }
 ],
 "metadata": {
  "kernelspec": {
   "display_name": "Python 3",
   "language": "python",
   "name": "python3"
  },
  "language_info": {
   "codemirror_mode": {
    "name": "ipython",
    "version": 3
   },
   "file_extension": ".py",
   "mimetype": "text/x-python",
   "name": "python",
   "nbconvert_exporter": "python",
   "pygments_lexer": "ipython3",
   "version": "3.8.5"
  }
 },
 "nbformat": 4,
 "nbformat_minor": 4
}
