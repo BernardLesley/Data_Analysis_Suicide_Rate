{
 "cells": [
  {
   "cell_type": "code",
   "execution_count": 1,
   "metadata": {},
   "outputs": [],
   "source": [
    "import numpy as np\n",
    "import pandas as pd\n",
    "import seaborn as sb\n",
    "import matplotlib.pyplot as plt \n",
    "sb.set() "
   ]
  },
  {
   "cell_type": "code",
   "execution_count": 42,
   "metadata": {},
   "outputs": [],
   "source": [
    "df=pd.read_csv('clean_data.csv')"
   ]
  },
  {
   "cell_type": "markdown",
   "metadata": {},
   "source": [
    "---\n",
    "# KNeighbourhoodRegressor"
   ]
  },
  {
   "cell_type": "code",
   "execution_count": 8,
   "metadata": {},
   "outputs": [],
   "source": [
    "data_ml = df.drop(df.columns[[0,1,4,5,7,8,9,10,11,12,20,21]], axis=1)"
   ]
  },
  {
   "cell_type": "code",
   "execution_count": 9,
   "metadata": {},
   "outputs": [
    {
     "data": {
      "text/html": [
       "<div>\n",
       "<style scoped>\n",
       "    .dataframe tbody tr th:only-of-type {\n",
       "        vertical-align: middle;\n",
       "    }\n",
       "\n",
       "    .dataframe tbody tr th {\n",
       "        vertical-align: top;\n",
       "    }\n",
       "\n",
       "    .dataframe thead th {\n",
       "        text-align: right;\n",
       "    }\n",
       "</style>\n",
       "<table border=\"1\" class=\"dataframe\">\n",
       "  <thead>\n",
       "    <tr style=\"text-align: right;\">\n",
       "      <th></th>\n",
       "      <th>sex</th>\n",
       "      <th>age</th>\n",
       "      <th>suicides/100k pop</th>\n",
       "      <th>Life Ladder</th>\n",
       "      <th>Log GDP per capita</th>\n",
       "      <th>Social support</th>\n",
       "      <th>Healthy life expectancy at birth</th>\n",
       "      <th>Freedom to make life choices</th>\n",
       "      <th>Generosity</th>\n",
       "      <th>Perceptions of corruption</th>\n",
       "    </tr>\n",
       "  </thead>\n",
       "  <tbody>\n",
       "    <tr>\n",
       "      <th>0</th>\n",
       "      <td>male</td>\n",
       "      <td>75+ years</td>\n",
       "      <td>18.88</td>\n",
       "      <td>4.634</td>\n",
       "      <td>9.142</td>\n",
       "      <td>0.821</td>\n",
       "      <td>65.8</td>\n",
       "      <td>0.529</td>\n",
       "      <td>-0.009</td>\n",
       "      <td>0.875</td>\n",
       "    </tr>\n",
       "    <tr>\n",
       "      <th>1</th>\n",
       "      <td>male</td>\n",
       "      <td>35-54 years</td>\n",
       "      <td>7.66</td>\n",
       "      <td>4.634</td>\n",
       "      <td>9.142</td>\n",
       "      <td>0.821</td>\n",
       "      <td>65.8</td>\n",
       "      <td>0.529</td>\n",
       "      <td>-0.009</td>\n",
       "      <td>0.875</td>\n",
       "    </tr>\n",
       "    <tr>\n",
       "      <th>2</th>\n",
       "      <td>male</td>\n",
       "      <td>55-74 years</td>\n",
       "      <td>6.25</td>\n",
       "      <td>4.634</td>\n",
       "      <td>9.142</td>\n",
       "      <td>0.821</td>\n",
       "      <td>65.8</td>\n",
       "      <td>0.529</td>\n",
       "      <td>-0.009</td>\n",
       "      <td>0.875</td>\n",
       "    </tr>\n",
       "    <tr>\n",
       "      <th>3</th>\n",
       "      <td>female</td>\n",
       "      <td>75+ years</td>\n",
       "      <td>5.23</td>\n",
       "      <td>4.634</td>\n",
       "      <td>9.142</td>\n",
       "      <td>0.821</td>\n",
       "      <td>65.8</td>\n",
       "      <td>0.529</td>\n",
       "      <td>-0.009</td>\n",
       "      <td>0.875</td>\n",
       "    </tr>\n",
       "    <tr>\n",
       "      <th>4</th>\n",
       "      <td>male</td>\n",
       "      <td>25-34 years</td>\n",
       "      <td>5.22</td>\n",
       "      <td>4.634</td>\n",
       "      <td>9.142</td>\n",
       "      <td>0.821</td>\n",
       "      <td>65.8</td>\n",
       "      <td>0.529</td>\n",
       "      <td>-0.009</td>\n",
       "      <td>0.875</td>\n",
       "    </tr>\n",
       "    <tr>\n",
       "      <th>...</th>\n",
       "      <td>...</td>\n",
       "      <td>...</td>\n",
       "      <td>...</td>\n",
       "      <td>...</td>\n",
       "      <td>...</td>\n",
       "      <td>...</td>\n",
       "      <td>...</td>\n",
       "      <td>...</td>\n",
       "      <td>...</td>\n",
       "      <td>...</td>\n",
       "    </tr>\n",
       "    <tr>\n",
       "      <th>6531</th>\n",
       "      <td>female</td>\n",
       "      <td>35-54 years</td>\n",
       "      <td>2.96</td>\n",
       "      <td>6.049</td>\n",
       "      <td>8.659</td>\n",
       "      <td>0.952</td>\n",
       "      <td>64.0</td>\n",
       "      <td>0.954</td>\n",
       "      <td>0.061</td>\n",
       "      <td>0.536</td>\n",
       "    </tr>\n",
       "    <tr>\n",
       "      <th>6532</th>\n",
       "      <td>female</td>\n",
       "      <td>75+ years</td>\n",
       "      <td>2.58</td>\n",
       "      <td>6.049</td>\n",
       "      <td>8.659</td>\n",
       "      <td>0.952</td>\n",
       "      <td>64.0</td>\n",
       "      <td>0.954</td>\n",
       "      <td>0.061</td>\n",
       "      <td>0.536</td>\n",
       "    </tr>\n",
       "    <tr>\n",
       "      <th>6533</th>\n",
       "      <td>male</td>\n",
       "      <td>5-14 years</td>\n",
       "      <td>2.17</td>\n",
       "      <td>6.049</td>\n",
       "      <td>8.659</td>\n",
       "      <td>0.952</td>\n",
       "      <td>64.0</td>\n",
       "      <td>0.954</td>\n",
       "      <td>0.061</td>\n",
       "      <td>0.536</td>\n",
       "    </tr>\n",
       "    <tr>\n",
       "      <th>6534</th>\n",
       "      <td>female</td>\n",
       "      <td>5-14 years</td>\n",
       "      <td>1.67</td>\n",
       "      <td>6.049</td>\n",
       "      <td>8.659</td>\n",
       "      <td>0.952</td>\n",
       "      <td>64.0</td>\n",
       "      <td>0.954</td>\n",
       "      <td>0.061</td>\n",
       "      <td>0.536</td>\n",
       "    </tr>\n",
       "    <tr>\n",
       "      <th>6535</th>\n",
       "      <td>female</td>\n",
       "      <td>55-74 years</td>\n",
       "      <td>1.46</td>\n",
       "      <td>6.049</td>\n",
       "      <td>8.659</td>\n",
       "      <td>0.952</td>\n",
       "      <td>64.0</td>\n",
       "      <td>0.954</td>\n",
       "      <td>0.061</td>\n",
       "      <td>0.536</td>\n",
       "    </tr>\n",
       "  </tbody>\n",
       "</table>\n",
       "<p>6536 rows × 10 columns</p>\n",
       "</div>"
      ],
      "text/plain": [
       "         sex          age  suicides/100k pop  Life Ladder  Log GDP per capita  \\\n",
       "0       male    75+ years              18.88        4.634               9.142   \n",
       "1       male  35-54 years               7.66        4.634               9.142   \n",
       "2       male  55-74 years               6.25        4.634               9.142   \n",
       "3     female    75+ years               5.23        4.634               9.142   \n",
       "4       male  25-34 years               5.22        4.634               9.142   \n",
       "...      ...          ...                ...          ...                 ...   \n",
       "6531  female  35-54 years               2.96        6.049               8.659   \n",
       "6532  female    75+ years               2.58        6.049               8.659   \n",
       "6533    male   5-14 years               2.17        6.049               8.659   \n",
       "6534  female   5-14 years               1.67        6.049               8.659   \n",
       "6535  female  55-74 years               1.46        6.049               8.659   \n",
       "\n",
       "      Social support  Healthy life expectancy at birth  \\\n",
       "0              0.821                              65.8   \n",
       "1              0.821                              65.8   \n",
       "2              0.821                              65.8   \n",
       "3              0.821                              65.8   \n",
       "4              0.821                              65.8   \n",
       "...              ...                               ...   \n",
       "6531           0.952                              64.0   \n",
       "6532           0.952                              64.0   \n",
       "6533           0.952                              64.0   \n",
       "6534           0.952                              64.0   \n",
       "6535           0.952                              64.0   \n",
       "\n",
       "      Freedom to make life choices  Generosity  Perceptions of corruption  \n",
       "0                            0.529      -0.009                      0.875  \n",
       "1                            0.529      -0.009                      0.875  \n",
       "2                            0.529      -0.009                      0.875  \n",
       "3                            0.529      -0.009                      0.875  \n",
       "4                            0.529      -0.009                      0.875  \n",
       "...                            ...         ...                        ...  \n",
       "6531                         0.954       0.061                      0.536  \n",
       "6532                         0.954       0.061                      0.536  \n",
       "6533                         0.954       0.061                      0.536  \n",
       "6534                         0.954       0.061                      0.536  \n",
       "6535                         0.954       0.061                      0.536  \n",
       "\n",
       "[6536 rows x 10 columns]"
      ]
     },
     "execution_count": 9,
     "metadata": {},
     "output_type": "execute_result"
    }
   ],
   "source": [
    "data_ml"
   ]
  },
  {
   "cell_type": "code",
   "execution_count": 10,
   "metadata": {},
   "outputs": [],
   "source": [
    "x = data_ml.drop(columns=['suicides/100k pop'])"
   ]
  },
  {
   "cell_type": "code",
   "execution_count": 11,
   "metadata": {},
   "outputs": [],
   "source": [
    "y=data_ml['suicides/100k pop']"
   ]
  },
  {
   "cell_type": "code",
   "execution_count": 12,
   "metadata": {},
   "outputs": [],
   "source": [
    "from sklearn.neighbors import KNeighborsRegressor\n",
    "from sklearn.model_selection import train_test_split, GridSearchCV\n",
    "from sklearn.preprocessing import MinMaxScaler\n",
    "from sklearn.metrics import mean_squared_error, r2_score\n",
    "from math import sqrt\n",
    "from sklearn.cluster import KMeans"
   ]
  },
  {
   "cell_type": "code",
   "execution_count": 13,
   "metadata": {},
   "outputs": [],
   "source": [
    "x=pd.get_dummies(x, columns=['sex','age'])"
   ]
  },
  {
   "cell_type": "code",
   "execution_count": 14,
   "metadata": {},
   "outputs": [
    {
     "data": {
      "text/html": [
       "<div>\n",
       "<style scoped>\n",
       "    .dataframe tbody tr th:only-of-type {\n",
       "        vertical-align: middle;\n",
       "    }\n",
       "\n",
       "    .dataframe tbody tr th {\n",
       "        vertical-align: top;\n",
       "    }\n",
       "\n",
       "    .dataframe thead th {\n",
       "        text-align: right;\n",
       "    }\n",
       "</style>\n",
       "<table border=\"1\" class=\"dataframe\">\n",
       "  <thead>\n",
       "    <tr style=\"text-align: right;\">\n",
       "      <th></th>\n",
       "      <th>Life Ladder</th>\n",
       "      <th>Log GDP per capita</th>\n",
       "      <th>Social support</th>\n",
       "      <th>Healthy life expectancy at birth</th>\n",
       "      <th>Freedom to make life choices</th>\n",
       "      <th>Generosity</th>\n",
       "      <th>Perceptions of corruption</th>\n",
       "      <th>sex_female</th>\n",
       "      <th>sex_male</th>\n",
       "      <th>age_15-24 years</th>\n",
       "      <th>age_25-34 years</th>\n",
       "      <th>age_35-54 years</th>\n",
       "      <th>age_5-14 years</th>\n",
       "      <th>age_55-74 years</th>\n",
       "      <th>age_75+ years</th>\n",
       "    </tr>\n",
       "  </thead>\n",
       "  <tbody>\n",
       "    <tr>\n",
       "      <th>0</th>\n",
       "      <td>4.634</td>\n",
       "      <td>9.142</td>\n",
       "      <td>0.821</td>\n",
       "      <td>65.8</td>\n",
       "      <td>0.529</td>\n",
       "      <td>-0.009</td>\n",
       "      <td>0.875</td>\n",
       "      <td>0</td>\n",
       "      <td>1</td>\n",
       "      <td>0</td>\n",
       "      <td>0</td>\n",
       "      <td>0</td>\n",
       "      <td>0</td>\n",
       "      <td>0</td>\n",
       "      <td>1</td>\n",
       "    </tr>\n",
       "    <tr>\n",
       "      <th>1</th>\n",
       "      <td>4.634</td>\n",
       "      <td>9.142</td>\n",
       "      <td>0.821</td>\n",
       "      <td>65.8</td>\n",
       "      <td>0.529</td>\n",
       "      <td>-0.009</td>\n",
       "      <td>0.875</td>\n",
       "      <td>0</td>\n",
       "      <td>1</td>\n",
       "      <td>0</td>\n",
       "      <td>0</td>\n",
       "      <td>1</td>\n",
       "      <td>0</td>\n",
       "      <td>0</td>\n",
       "      <td>0</td>\n",
       "    </tr>\n",
       "    <tr>\n",
       "      <th>2</th>\n",
       "      <td>4.634</td>\n",
       "      <td>9.142</td>\n",
       "      <td>0.821</td>\n",
       "      <td>65.8</td>\n",
       "      <td>0.529</td>\n",
       "      <td>-0.009</td>\n",
       "      <td>0.875</td>\n",
       "      <td>0</td>\n",
       "      <td>1</td>\n",
       "      <td>0</td>\n",
       "      <td>0</td>\n",
       "      <td>0</td>\n",
       "      <td>0</td>\n",
       "      <td>1</td>\n",
       "      <td>0</td>\n",
       "    </tr>\n",
       "    <tr>\n",
       "      <th>3</th>\n",
       "      <td>4.634</td>\n",
       "      <td>9.142</td>\n",
       "      <td>0.821</td>\n",
       "      <td>65.8</td>\n",
       "      <td>0.529</td>\n",
       "      <td>-0.009</td>\n",
       "      <td>0.875</td>\n",
       "      <td>1</td>\n",
       "      <td>0</td>\n",
       "      <td>0</td>\n",
       "      <td>0</td>\n",
       "      <td>0</td>\n",
       "      <td>0</td>\n",
       "      <td>0</td>\n",
       "      <td>1</td>\n",
       "    </tr>\n",
       "    <tr>\n",
       "      <th>4</th>\n",
       "      <td>4.634</td>\n",
       "      <td>9.142</td>\n",
       "      <td>0.821</td>\n",
       "      <td>65.8</td>\n",
       "      <td>0.529</td>\n",
       "      <td>-0.009</td>\n",
       "      <td>0.875</td>\n",
       "      <td>0</td>\n",
       "      <td>1</td>\n",
       "      <td>0</td>\n",
       "      <td>1</td>\n",
       "      <td>0</td>\n",
       "      <td>0</td>\n",
       "      <td>0</td>\n",
       "      <td>0</td>\n",
       "    </tr>\n",
       "    <tr>\n",
       "      <th>...</th>\n",
       "      <td>...</td>\n",
       "      <td>...</td>\n",
       "      <td>...</td>\n",
       "      <td>...</td>\n",
       "      <td>...</td>\n",
       "      <td>...</td>\n",
       "      <td>...</td>\n",
       "      <td>...</td>\n",
       "      <td>...</td>\n",
       "      <td>...</td>\n",
       "      <td>...</td>\n",
       "      <td>...</td>\n",
       "      <td>...</td>\n",
       "      <td>...</td>\n",
       "      <td>...</td>\n",
       "    </tr>\n",
       "    <tr>\n",
       "      <th>6531</th>\n",
       "      <td>6.049</td>\n",
       "      <td>8.659</td>\n",
       "      <td>0.952</td>\n",
       "      <td>64.0</td>\n",
       "      <td>0.954</td>\n",
       "      <td>0.061</td>\n",
       "      <td>0.536</td>\n",
       "      <td>1</td>\n",
       "      <td>0</td>\n",
       "      <td>0</td>\n",
       "      <td>0</td>\n",
       "      <td>1</td>\n",
       "      <td>0</td>\n",
       "      <td>0</td>\n",
       "      <td>0</td>\n",
       "    </tr>\n",
       "    <tr>\n",
       "      <th>6532</th>\n",
       "      <td>6.049</td>\n",
       "      <td>8.659</td>\n",
       "      <td>0.952</td>\n",
       "      <td>64.0</td>\n",
       "      <td>0.954</td>\n",
       "      <td>0.061</td>\n",
       "      <td>0.536</td>\n",
       "      <td>1</td>\n",
       "      <td>0</td>\n",
       "      <td>0</td>\n",
       "      <td>0</td>\n",
       "      <td>0</td>\n",
       "      <td>0</td>\n",
       "      <td>0</td>\n",
       "      <td>1</td>\n",
       "    </tr>\n",
       "    <tr>\n",
       "      <th>6533</th>\n",
       "      <td>6.049</td>\n",
       "      <td>8.659</td>\n",
       "      <td>0.952</td>\n",
       "      <td>64.0</td>\n",
       "      <td>0.954</td>\n",
       "      <td>0.061</td>\n",
       "      <td>0.536</td>\n",
       "      <td>0</td>\n",
       "      <td>1</td>\n",
       "      <td>0</td>\n",
       "      <td>0</td>\n",
       "      <td>0</td>\n",
       "      <td>1</td>\n",
       "      <td>0</td>\n",
       "      <td>0</td>\n",
       "    </tr>\n",
       "    <tr>\n",
       "      <th>6534</th>\n",
       "      <td>6.049</td>\n",
       "      <td>8.659</td>\n",
       "      <td>0.952</td>\n",
       "      <td>64.0</td>\n",
       "      <td>0.954</td>\n",
       "      <td>0.061</td>\n",
       "      <td>0.536</td>\n",
       "      <td>1</td>\n",
       "      <td>0</td>\n",
       "      <td>0</td>\n",
       "      <td>0</td>\n",
       "      <td>0</td>\n",
       "      <td>1</td>\n",
       "      <td>0</td>\n",
       "      <td>0</td>\n",
       "    </tr>\n",
       "    <tr>\n",
       "      <th>6535</th>\n",
       "      <td>6.049</td>\n",
       "      <td>8.659</td>\n",
       "      <td>0.952</td>\n",
       "      <td>64.0</td>\n",
       "      <td>0.954</td>\n",
       "      <td>0.061</td>\n",
       "      <td>0.536</td>\n",
       "      <td>1</td>\n",
       "      <td>0</td>\n",
       "      <td>0</td>\n",
       "      <td>0</td>\n",
       "      <td>0</td>\n",
       "      <td>0</td>\n",
       "      <td>1</td>\n",
       "      <td>0</td>\n",
       "    </tr>\n",
       "  </tbody>\n",
       "</table>\n",
       "<p>6536 rows × 15 columns</p>\n",
       "</div>"
      ],
      "text/plain": [
       "      Life Ladder  Log GDP per capita  Social support  \\\n",
       "0           4.634               9.142           0.821   \n",
       "1           4.634               9.142           0.821   \n",
       "2           4.634               9.142           0.821   \n",
       "3           4.634               9.142           0.821   \n",
       "4           4.634               9.142           0.821   \n",
       "...           ...                 ...             ...   \n",
       "6531        6.049               8.659           0.952   \n",
       "6532        6.049               8.659           0.952   \n",
       "6533        6.049               8.659           0.952   \n",
       "6534        6.049               8.659           0.952   \n",
       "6535        6.049               8.659           0.952   \n",
       "\n",
       "      Healthy life expectancy at birth  Freedom to make life choices  \\\n",
       "0                                 65.8                         0.529   \n",
       "1                                 65.8                         0.529   \n",
       "2                                 65.8                         0.529   \n",
       "3                                 65.8                         0.529   \n",
       "4                                 65.8                         0.529   \n",
       "...                                ...                           ...   \n",
       "6531                              64.0                         0.954   \n",
       "6532                              64.0                         0.954   \n",
       "6533                              64.0                         0.954   \n",
       "6534                              64.0                         0.954   \n",
       "6535                              64.0                         0.954   \n",
       "\n",
       "      Generosity  Perceptions of corruption  sex_female  sex_male  \\\n",
       "0         -0.009                      0.875           0         1   \n",
       "1         -0.009                      0.875           0         1   \n",
       "2         -0.009                      0.875           0         1   \n",
       "3         -0.009                      0.875           1         0   \n",
       "4         -0.009                      0.875           0         1   \n",
       "...          ...                        ...         ...       ...   \n",
       "6531       0.061                      0.536           1         0   \n",
       "6532       0.061                      0.536           1         0   \n",
       "6533       0.061                      0.536           0         1   \n",
       "6534       0.061                      0.536           1         0   \n",
       "6535       0.061                      0.536           1         0   \n",
       "\n",
       "      age_15-24 years  age_25-34 years  age_35-54 years  age_5-14 years  \\\n",
       "0                   0                0                0               0   \n",
       "1                   0                0                1               0   \n",
       "2                   0                0                0               0   \n",
       "3                   0                0                0               0   \n",
       "4                   0                1                0               0   \n",
       "...               ...              ...              ...             ...   \n",
       "6531                0                0                1               0   \n",
       "6532                0                0                0               0   \n",
       "6533                0                0                0               1   \n",
       "6534                0                0                0               1   \n",
       "6535                0                0                0               0   \n",
       "\n",
       "      age_55-74 years  age_75+ years  \n",
       "0                   0              1  \n",
       "1                   0              0  \n",
       "2                   1              0  \n",
       "3                   0              1  \n",
       "4                   0              0  \n",
       "...               ...            ...  \n",
       "6531                0              0  \n",
       "6532                0              1  \n",
       "6533                0              0  \n",
       "6534                0              0  \n",
       "6535                1              0  \n",
       "\n",
       "[6536 rows x 15 columns]"
      ]
     },
     "execution_count": 14,
     "metadata": {},
     "output_type": "execute_result"
    }
   ],
   "source": [
    "x"
   ]
  },
  {
   "cell_type": "code",
   "execution_count": 15,
   "metadata": {},
   "outputs": [],
   "source": [
    "x_train, x_test, y_train, y_test = train_test_split(x, y, test_size=0.2, random_state=37)"
   ]
  },
  {
   "cell_type": "code",
   "execution_count": 16,
   "metadata": {},
   "outputs": [],
   "source": [
    "from sklearn.preprocessing import MinMaxScaler\n",
    "scaler = MinMaxScaler(feature_range=(0, 1))\n",
    "\n",
    "x_train = pd.DataFrame(scaler.fit_transform(x_train))\n",
    "x_test = pd.DataFrame(scaler.fit_transform(x_test))"
   ]
  },
  {
   "cell_type": "code",
   "execution_count": 17,
   "metadata": {},
   "outputs": [
    {
     "name": "stdout",
     "output_type": "stream",
     "text": [
      "     K  Test Score  Train Score\n",
      "0    1    0.694329     1.000000\n",
      "1    2    0.742922     0.936392\n",
      "2    3    0.745488     0.901297\n",
      "3    4    0.716032     0.875546\n",
      "4    5    0.719193     0.859926\n",
      "5    6    0.698508     0.845824\n",
      "6    7    0.686313     0.831741\n",
      "7    8    0.670339     0.819746\n",
      "8    9    0.654575     0.809009\n",
      "9   10    0.644797     0.796193\n",
      "10  11    0.637224     0.786588\n",
      "11  12    0.624867     0.775329\n",
      "12  13    0.617904     0.766860\n",
      "13  14    0.604935     0.757488\n",
      "14  15    0.600602     0.751433\n",
      "15  16    0.601194     0.743407\n",
      "16  17    0.601189     0.736540\n",
      "17  18    0.595092     0.730902\n",
      "18  19    0.587692     0.722523\n"
     ]
    }
   ],
   "source": [
    "k_arr = []\n",
    "for i in range(1,20,1):\n",
    "    knn = KNeighborsRegressor(n_neighbors=i)\n",
    "    knn.fit(x_train,y_train)\n",
    "    test_score = knn.score(x_test,y_test)\n",
    "    train_score = knn.score(x_train,y_train)\n",
    "    k_arr.append((i, test_score ,train_score))\n",
    "dataframe_arr = pd.DataFrame(k_arr, columns=['K','Test Score','Train Score'])\n",
    "print(dataframe_arr)"
   ]
  },
  {
   "cell_type": "code",
   "execution_count": 18,
   "metadata": {},
   "outputs": [
    {
     "name": "stdout",
     "output_type": "stream",
     "text": [
      "Root Mean Square Error for k=1: 7.886251158785747\n",
      "Root Mean Square Error for k=2: 7.232295394569551\n",
      "Root Mean Square Error for k=3: 7.196109154298901\n",
      "Root Mean Square Error for k=4: 7.601126223038444\n",
      "Root Mean Square Error for k=5: 7.558700653068034\n",
      "Root Mean Square Error for k=6: 7.832151311907411\n",
      "Root Mean Square Error for k=7: 7.988990118822401\n",
      "Root Mean Square Error for k=8: 8.189877065015732\n",
      "Root Mean Square Error for k=9: 8.38339494238435\n",
      "Root Mean Square Error for k=10: 8.50122620292884\n",
      "Root Mean Square Error for k=11: 8.591368213200216\n",
      "Root Mean Square Error for k=12: 8.736474254129782\n",
      "Root Mean Square Error for k=13: 8.817177599615125\n",
      "Root Mean Square Error for k=14: 8.965561928813234\n",
      "Root Mean Square Error for k=15: 9.014592800669126\n",
      "Root Mean Square Error for k=16: 9.007907091708626\n",
      "Root Mean Square Error for k=17: 9.007965579233161\n",
      "Root Mean Square Error for k=18: 9.076562642165651\n",
      "Root Mean Square Error for k=19: 9.159124253811038\n",
      "Root Mean Square Error for k=20: 9.193274302624037\n"
     ]
    }
   ],
   "source": [
    "rmse_arr = [] #to store rmse values for different k\n",
    "for i in range(20):\n",
    "    i = i+1\n",
    "    model = KNeighborsRegressor(n_neighbors = i)\n",
    "\n",
    "    model.fit(x_train, y_train)  #fit the model\n",
    "    pred=model.predict(x_test) #make prediction on test set\n",
    "    err = sqrt(mean_squared_error(y_test,pred)) #calculate rmse\n",
    "    rmse_arr.append(err) #store rmse values\n",
    "    print(f'Root Mean Square Error for k={i}: {err}')"
   ]
  },
  {
   "cell_type": "code",
   "execution_count": 19,
   "metadata": {},
   "outputs": [
    {
     "data": {
      "text/plain": [
       "<AxesSubplot:>"
      ]
     },
     "execution_count": 19,
     "metadata": {},
     "output_type": "execute_result"
    },
    {
     "data": {
      "image/png": "[encoded data removed]",
      "text/plain": [
       "<Figure size 432x288 with 1 Axes>"
      ]
     },
     "metadata": {},
     "output_type": "display_data"
    }
   ],
   "source": [
    "f = pd.DataFrame(rmse_arr) #elbow curve \n",
    "f.plot()"
   ]
  },
  {
   "cell_type": "code",
   "execution_count": 20,
   "metadata": {},
   "outputs": [
    {
     "data": {
      "text/plain": [
       "{'n_neighbors': 3}"
      ]
     },
     "execution_count": 20,
     "metadata": {},
     "output_type": "execute_result"
    }
   ],
   "source": [
    "params = {'n_neighbors':[2,3,4,5,6,7,8,9]}\n",
    "knn = KNeighborsRegressor()\n",
    "\n",
    "model = GridSearchCV(knn, params, cv=5)\n",
    "model.fit(x_train,y_train)\n",
    "model.best_params_"
   ]
  },
  {
   "cell_type": "code",
   "execution_count": 21,
   "metadata": {},
   "outputs": [
    {
     "data": {
      "text/plain": [
       "KNeighborsRegressor(n_neighbors=3)"
      ]
     },
     "execution_count": 21,
     "metadata": {},
     "output_type": "execute_result"
    }
   ],
   "source": [
    "knn = KNeighborsRegressor(n_neighbors=3)\n",
    "knn.fit(x_train,y_train)"
   ]
  },
  {
   "cell_type": "code",
   "execution_count": 24,
   "metadata": {},
   "outputs": [],
   "source": [
    "y_predict=knn.predict(x_test)"
   ]
  },
  {
   "cell_type": "code",
   "execution_count": 25,
   "metadata": {},
   "outputs": [
    {
     "data": {
      "text/plain": [
       "0.7237035459470225"
      ]
     },
     "execution_count": 25,
     "metadata": {},
     "output_type": "execute_result"
    }
   ],
   "source": [
    "r2_score(y_predict,y_test)"
   ]
  },
  {
   "cell_type": "markdown",
   "metadata": {},
   "source": [
    "Plot ypred vs y test"
   ]
  },
  {
   "cell_type": "markdown",
   "metadata": {},
   "source": [
    "---\n",
    "# Random Forest Regressor"
   ]
  },
  {
   "cell_type": "code",
   "execution_count": 29,
   "metadata": {},
   "outputs": [],
   "source": [
    "data_ml2= data_ml"
   ]
  },
  {
   "cell_type": "code",
   "execution_count": 30,
   "metadata": {},
   "outputs": [],
   "source": [
    "data_ml2=pd.get_dummies(data_ml2, columns=['sex','age'])"
   ]
  },
  {
   "cell_type": "code",
   "execution_count": 31,
   "metadata": {},
   "outputs": [],
   "source": [
    "df = data_ml2"
   ]
  },
  {
   "cell_type": "code",
   "execution_count": 32,
   "metadata": {},
   "outputs": [],
   "source": [
    "x = df.drop(columns=['suicides/100k pop'])"
   ]
  },
  {
   "cell_type": "code",
   "execution_count": 33,
   "metadata": {},
   "outputs": [],
   "source": [
    "y=df['suicides/100k pop']"
   ]
  },
  {
   "cell_type": "code",
   "execution_count": 34,
   "metadata": {},
   "outputs": [],
   "source": [
    "x_train, x_test, y_train, y_test = train_test_split(x, y, test_size=0.2, random_state=37)"
   ]
  },
  {
   "cell_type": "code",
   "execution_count": 35,
   "metadata": {},
   "outputs": [],
   "source": [
    "from sklearn.ensemble import RandomForestRegressor"
   ]
  },
  {
   "cell_type": "code",
   "execution_count": 36,
   "metadata": {
    "scrolled": true
   },
   "outputs": [
    {
     "name": "stdout",
     "output_type": "stream",
     "text": [
      "Train:0.9765825999802246 Test:0.7743639141083507\n"
     ]
    }
   ],
   "source": [
    "rf = RandomForestRegressor(n_estimators = 100, random_state = 42)\n",
    "rf.fit(x_train, y_train)\n",
    "print(f\"Train:{rf.score(x_train,y_train)} Test:{rf.score(x_test,y_test)}\")"
   ]
  },
  {
   "cell_type": "code",
   "execution_count": 37,
   "metadata": {},
   "outputs": [
    {
     "data": {
      "text/plain": [
       "0.752222114054532"
      ]
     },
     "execution_count": 37,
     "metadata": {},
     "output_type": "execute_result"
    }
   ],
   "source": [
    "y_predict=rf.predict(x_test)\n",
    "r2_score(y_predict,y_test)"
   ]
  },
  {
   "cell_type": "markdown",
   "metadata": {},
   "source": [
    "# Multiple Linear Regression"
   ]
  },
  {
   "cell_type": "code",
   "execution_count": 38,
   "metadata": {},
   "outputs": [
    {
     "name": "stdout",
     "output_type": "stream",
     "text": [
      "Intercept of Regression \t: b =  -34.182281831045536\n",
      "Coefficients of Regression \t: a =  [ -1.92806011   3.46343381  42.31998451  -0.18369182  -2.46930357\n",
      " -12.28872157   0.35210457  -7.20617331   7.20617331  -3.21815971\n",
      "  -0.60405233   2.13536911 -11.10612237   3.12233653   9.67062878]\n",
      "\n"
     ]
    }
   ],
   "source": [
    "from sklearn.linear_model import LinearRegression\n",
    "from sklearn.model_selection import train_test_split\n",
    "from sklearn.metrics import mean_squared_error\n",
    "\n",
    "# Split the Dataset into Train and Test\n",
    "x_train, x_test, y_train, y_test = train_test_split(x, y, test_size = 0.25)\n",
    "\n",
    "# Linear Regression using Train Data\n",
    "linreg = LinearRegression()         # create the linear regression object\n",
    "linreg.fit(x_train, y_train)        # train the linear regression model\n",
    "\n",
    "# Coefficients of the Linear Regression line\n",
    "print('Intercept of Regression \\t: b = ', linreg.intercept_)\n",
    "print('Coefficients of Regression \\t: a = ', linreg.coef_)\n",
    "print()\n",
    "\n",
    "# Predict Response corresponding to Predictors\n",
    "y_train_pred = linreg.predict(x_train)\n",
    "y_test_pred = linreg.predict(x_test)"
   ]
  },
  {
   "cell_type": "code",
   "execution_count": 39,
   "metadata": {},
   "outputs": [
    {
     "data": {
      "image/png": "[encoded data removed]",
      "text/plain": [
       "<Figure size 864x576 with 1 Axes>"
      ]
     },
     "metadata": {},
     "output_type": "display_data"
    },
    {
     "name": "stdout",
     "output_type": "stream",
     "text": [
      "Goodness of Fit of Model \tTrain Dataset\n",
      "Explained Variance (R^2) \t: 0.42832825666217567\n",
      "Mean Squared Error (MSE) \t: 141.3304593660301\n",
      "\n"
     ]
    }
   ],
   "source": [
    "# Plot the Predictions vs the True values\n",
    "f = plt.figure(figsize=(12, 8))\n",
    "plt.scatter(y_train, y_train_pred, color = \"blue\")\n",
    "plt.plot(y_train, y_train, 'black', linewidth = 3)\n",
    "plt.show()\n",
    "\n",
    "# Check the Goodness of Fit (on Train Data)\n",
    "print(\"Goodness of Fit of Model \\tTrain Dataset\")\n",
    "print(\"Explained Variance (R^2) \\t:\", linreg.score(x_train, y_train))\n",
    "print(\"Mean Squared Error (MSE) \\t:\", mean_squared_error(y_train, y_train_pred))\n",
    "print()"
   ]
  },
  {
   "cell_type": "code",
   "execution_count": 40,
   "metadata": {},
   "outputs": [
    {
     "data": {
      "image/png": "[encoded data removed]",
      "text/plain": [
       "<Figure size 864x576 with 1 Axes>"
      ]
     },
     "metadata": {},
     "output_type": "display_data"
    },
    {
     "name": "stdout",
     "output_type": "stream",
     "text": [
      "Goodness of Fit of Model \tTest Dataset\n",
      "Explained Variance (R^2) \t: 0.40951730851194257\n",
      "Mean Squared Error (MSE) \t: 154.8262675671093\n",
      "\n"
     ]
    }
   ],
   "source": [
    "f = plt.figure(figsize=(12, 8))\n",
    "plt.scatter(y_test, y_test_pred, color = \"green\")\n",
    "plt.plot(y_test, y_test, 'black', linewidth = 3)\n",
    "plt.show()\n",
    "# Check the Goodness of Fit (on Test Data)\n",
    "print(\"Goodness of Fit of Model \\tTest Dataset\")\n",
    "print(\"Explained Variance (R^2) \\t:\", linreg.score(x_test, y_test))\n",
    "print(\"Mean Squared Error (MSE) \\t:\", mean_squared_error(y_test, y_test_pred))\n",
    "print()"
   ]
  }
 ],
 "metadata": {
  "kernelspec": {
   "display_name": "Python 3",
   "language": "python",
   "name": "python3"
  },
  "language_info": {
   "codemirror_mode": {
    "name": "ipython",
    "version": 3
   },
   "file_extension": ".py",
   "mimetype": "text/x-python",
   "name": "python",
   "nbconvert_exporter": "python",
   "pygments_lexer": "ipython3",
   "version": "3.8.5"
  }
 },
 "nbformat": 4,
 "nbformat_minor": 4
}
