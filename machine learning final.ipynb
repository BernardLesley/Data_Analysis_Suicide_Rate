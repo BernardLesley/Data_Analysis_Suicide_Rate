{
 "cells": [
  {
   "cell_type": "code",
   "execution_count": 1,
   "metadata": {},
   "outputs": [],
   "source": [
    "import numpy as np\n",
    "import pandas as pd\n",
    "import seaborn as sb\n",
    "import matplotlib.pyplot as plt \n",
    "sb.set() "
   ]
  },
  {
   "cell_type": "code",
   "execution_count": 2,
   "metadata": {},
   "outputs": [],
   "source": [
    "df=pd.read_csv('clean_data.csv')"
   ]
  },
  {
   "cell_type": "code",
   "execution_count": 3,
   "metadata": {},
   "outputs": [
    {
     "data": {
      "text/html": [
       "<div>\n",
       "<style scoped>\n",
       "    .dataframe tbody tr th:only-of-type {\n",
       "        vertical-align: middle;\n",
       "    }\n",
       "\n",
       "    .dataframe tbody tr th {\n",
       "        vertical-align: top;\n",
       "    }\n",
       "\n",
       "    .dataframe thead th {\n",
       "        text-align: right;\n",
       "    }\n",
       "</style>\n",
       "<table border=\"1\" class=\"dataframe\">\n",
       "  <thead>\n",
       "    <tr style=\"text-align: right;\">\n",
       "      <th></th>\n",
       "      <th>suicides/100k pop</th>\n",
       "      <th>Life Ladder</th>\n",
       "      <th>Log GDP per capita</th>\n",
       "      <th>Social support</th>\n",
       "      <th>Healthy life expectancy at birth</th>\n",
       "      <th>Freedom to make life choices</th>\n",
       "      <th>Generosity</th>\n",
       "      <th>Perceptions of corruption</th>\n",
       "      <th>sex_female</th>\n",
       "      <th>sex_male</th>\n",
       "      <th>age_15-24 years</th>\n",
       "      <th>age_25-34 years</th>\n",
       "      <th>age_35-54 years</th>\n",
       "      <th>age_5-14 years</th>\n",
       "      <th>age_55-74 years</th>\n",
       "      <th>age_75+ years</th>\n",
       "    </tr>\n",
       "  </thead>\n",
       "  <tbody>\n",
       "    <tr>\n",
       "      <th>0</th>\n",
       "      <td>18.88</td>\n",
       "      <td>4.634</td>\n",
       "      <td>9.142</td>\n",
       "      <td>0.821</td>\n",
       "      <td>65.8</td>\n",
       "      <td>0.529</td>\n",
       "      <td>-0.009</td>\n",
       "      <td>0.875</td>\n",
       "      <td>0</td>\n",
       "      <td>1</td>\n",
       "      <td>0</td>\n",
       "      <td>0</td>\n",
       "      <td>0</td>\n",
       "      <td>0</td>\n",
       "      <td>0</td>\n",
       "      <td>1</td>\n",
       "    </tr>\n",
       "    <tr>\n",
       "      <th>1</th>\n",
       "      <td>7.66</td>\n",
       "      <td>4.634</td>\n",
       "      <td>9.142</td>\n",
       "      <td>0.821</td>\n",
       "      <td>65.8</td>\n",
       "      <td>0.529</td>\n",
       "      <td>-0.009</td>\n",
       "      <td>0.875</td>\n",
       "      <td>0</td>\n",
       "      <td>1</td>\n",
       "      <td>0</td>\n",
       "      <td>0</td>\n",
       "      <td>1</td>\n",
       "      <td>0</td>\n",
       "      <td>0</td>\n",
       "      <td>0</td>\n",
       "    </tr>\n",
       "    <tr>\n",
       "      <th>2</th>\n",
       "      <td>6.25</td>\n",
       "      <td>4.634</td>\n",
       "      <td>9.142</td>\n",
       "      <td>0.821</td>\n",
       "      <td>65.8</td>\n",
       "      <td>0.529</td>\n",
       "      <td>-0.009</td>\n",
       "      <td>0.875</td>\n",
       "      <td>0</td>\n",
       "      <td>1</td>\n",
       "      <td>0</td>\n",
       "      <td>0</td>\n",
       "      <td>0</td>\n",
       "      <td>0</td>\n",
       "      <td>1</td>\n",
       "      <td>0</td>\n",
       "    </tr>\n",
       "    <tr>\n",
       "      <th>3</th>\n",
       "      <td>5.23</td>\n",
       "      <td>4.634</td>\n",
       "      <td>9.142</td>\n",
       "      <td>0.821</td>\n",
       "      <td>65.8</td>\n",
       "      <td>0.529</td>\n",
       "      <td>-0.009</td>\n",
       "      <td>0.875</td>\n",
       "      <td>1</td>\n",
       "      <td>0</td>\n",
       "      <td>0</td>\n",
       "      <td>0</td>\n",
       "      <td>0</td>\n",
       "      <td>0</td>\n",
       "      <td>0</td>\n",
       "      <td>1</td>\n",
       "    </tr>\n",
       "    <tr>\n",
       "      <th>4</th>\n",
       "      <td>5.22</td>\n",
       "      <td>4.634</td>\n",
       "      <td>9.142</td>\n",
       "      <td>0.821</td>\n",
       "      <td>65.8</td>\n",
       "      <td>0.529</td>\n",
       "      <td>-0.009</td>\n",
       "      <td>0.875</td>\n",
       "      <td>0</td>\n",
       "      <td>1</td>\n",
       "      <td>0</td>\n",
       "      <td>1</td>\n",
       "      <td>0</td>\n",
       "      <td>0</td>\n",
       "      <td>0</td>\n",
       "      <td>0</td>\n",
       "    </tr>\n",
       "    <tr>\n",
       "      <th>...</th>\n",
       "      <td>...</td>\n",
       "      <td>...</td>\n",
       "      <td>...</td>\n",
       "      <td>...</td>\n",
       "      <td>...</td>\n",
       "      <td>...</td>\n",
       "      <td>...</td>\n",
       "      <td>...</td>\n",
       "      <td>...</td>\n",
       "      <td>...</td>\n",
       "      <td>...</td>\n",
       "      <td>...</td>\n",
       "      <td>...</td>\n",
       "      <td>...</td>\n",
       "      <td>...</td>\n",
       "      <td>...</td>\n",
       "    </tr>\n",
       "    <tr>\n",
       "      <th>6531</th>\n",
       "      <td>2.96</td>\n",
       "      <td>6.049</td>\n",
       "      <td>8.659</td>\n",
       "      <td>0.952</td>\n",
       "      <td>64.0</td>\n",
       "      <td>0.954</td>\n",
       "      <td>0.061</td>\n",
       "      <td>0.536</td>\n",
       "      <td>1</td>\n",
       "      <td>0</td>\n",
       "      <td>0</td>\n",
       "      <td>0</td>\n",
       "      <td>1</td>\n",
       "      <td>0</td>\n",
       "      <td>0</td>\n",
       "      <td>0</td>\n",
       "    </tr>\n",
       "    <tr>\n",
       "      <th>6532</th>\n",
       "      <td>2.58</td>\n",
       "      <td>6.049</td>\n",
       "      <td>8.659</td>\n",
       "      <td>0.952</td>\n",
       "      <td>64.0</td>\n",
       "      <td>0.954</td>\n",
       "      <td>0.061</td>\n",
       "      <td>0.536</td>\n",
       "      <td>1</td>\n",
       "      <td>0</td>\n",
       "      <td>0</td>\n",
       "      <td>0</td>\n",
       "      <td>0</td>\n",
       "      <td>0</td>\n",
       "      <td>0</td>\n",
       "      <td>1</td>\n",
       "    </tr>\n",
       "    <tr>\n",
       "      <th>6533</th>\n",
       "      <td>2.17</td>\n",
       "      <td>6.049</td>\n",
       "      <td>8.659</td>\n",
       "      <td>0.952</td>\n",
       "      <td>64.0</td>\n",
       "      <td>0.954</td>\n",
       "      <td>0.061</td>\n",
       "      <td>0.536</td>\n",
       "      <td>0</td>\n",
       "      <td>1</td>\n",
       "      <td>0</td>\n",
       "      <td>0</td>\n",
       "      <td>0</td>\n",
       "      <td>1</td>\n",
       "      <td>0</td>\n",
       "      <td>0</td>\n",
       "    </tr>\n",
       "    <tr>\n",
       "      <th>6534</th>\n",
       "      <td>1.67</td>\n",
       "      <td>6.049</td>\n",
       "      <td>8.659</td>\n",
       "      <td>0.952</td>\n",
       "      <td>64.0</td>\n",
       "      <td>0.954</td>\n",
       "      <td>0.061</td>\n",
       "      <td>0.536</td>\n",
       "      <td>1</td>\n",
       "      <td>0</td>\n",
       "      <td>0</td>\n",
       "      <td>0</td>\n",
       "      <td>0</td>\n",
       "      <td>1</td>\n",
       "      <td>0</td>\n",
       "      <td>0</td>\n",
       "    </tr>\n",
       "    <tr>\n",
       "      <th>6535</th>\n",
       "      <td>1.46</td>\n",
       "      <td>6.049</td>\n",
       "      <td>8.659</td>\n",
       "      <td>0.952</td>\n",
       "      <td>64.0</td>\n",
       "      <td>0.954</td>\n",
       "      <td>0.061</td>\n",
       "      <td>0.536</td>\n",
       "      <td>1</td>\n",
       "      <td>0</td>\n",
       "      <td>0</td>\n",
       "      <td>0</td>\n",
       "      <td>0</td>\n",
       "      <td>0</td>\n",
       "      <td>1</td>\n",
       "      <td>0</td>\n",
       "    </tr>\n",
       "  </tbody>\n",
       "</table>\n",
       "<p>6536 rows × 16 columns</p>\n",
       "</div>"
      ],
      "text/plain": [
       "      suicides/100k pop  Life Ladder  Log GDP per capita  Social support  \\\n",
       "0                 18.88        4.634               9.142           0.821   \n",
       "1                  7.66        4.634               9.142           0.821   \n",
       "2                  6.25        4.634               9.142           0.821   \n",
       "3                  5.23        4.634               9.142           0.821   \n",
       "4                  5.22        4.634               9.142           0.821   \n",
       "...                 ...          ...                 ...             ...   \n",
       "6531               2.96        6.049               8.659           0.952   \n",
       "6532               2.58        6.049               8.659           0.952   \n",
       "6533               2.17        6.049               8.659           0.952   \n",
       "6534               1.67        6.049               8.659           0.952   \n",
       "6535               1.46        6.049               8.659           0.952   \n",
       "\n",
       "      Healthy life expectancy at birth  Freedom to make life choices  \\\n",
       "0                                 65.8                         0.529   \n",
       "1                                 65.8                         0.529   \n",
       "2                                 65.8                         0.529   \n",
       "3                                 65.8                         0.529   \n",
       "4                                 65.8                         0.529   \n",
       "...                                ...                           ...   \n",
       "6531                              64.0                         0.954   \n",
       "6532                              64.0                         0.954   \n",
       "6533                              64.0                         0.954   \n",
       "6534                              64.0                         0.954   \n",
       "6535                              64.0                         0.954   \n",
       "\n",
       "      Generosity  Perceptions of corruption  sex_female  sex_male  \\\n",
       "0         -0.009                      0.875           0         1   \n",
       "1         -0.009                      0.875           0         1   \n",
       "2         -0.009                      0.875           0         1   \n",
       "3         -0.009                      0.875           1         0   \n",
       "4         -0.009                      0.875           0         1   \n",
       "...          ...                        ...         ...       ...   \n",
       "6531       0.061                      0.536           1         0   \n",
       "6532       0.061                      0.536           1         0   \n",
       "6533       0.061                      0.536           0         1   \n",
       "6534       0.061                      0.536           1         0   \n",
       "6535       0.061                      0.536           1         0   \n",
       "\n",
       "      age_15-24 years  age_25-34 years  age_35-54 years  age_5-14 years  \\\n",
       "0                   0                0                0               0   \n",
       "1                   0                0                1               0   \n",
       "2                   0                0                0               0   \n",
       "3                   0                0                0               0   \n",
       "4                   0                1                0               0   \n",
       "...               ...              ...              ...             ...   \n",
       "6531                0                0                1               0   \n",
       "6532                0                0                0               0   \n",
       "6533                0                0                0               1   \n",
       "6534                0                0                0               1   \n",
       "6535                0                0                0               0   \n",
       "\n",
       "      age_55-74 years  age_75+ years  \n",
       "0                   0              1  \n",
       "1                   0              0  \n",
       "2                   1              0  \n",
       "3                   0              1  \n",
       "4                   0              0  \n",
       "...               ...            ...  \n",
       "6531                0              0  \n",
       "6532                0              1  \n",
       "6533                0              0  \n",
       "6534                0              0  \n",
       "6535                1              0  \n",
       "\n",
       "[6536 rows x 16 columns]"
      ]
     },
     "execution_count": 3,
     "metadata": {},
     "output_type": "execute_result"
    }
   ],
   "source": [
    "df"
   ]
  },
  {
   "cell_type": "code",
   "execution_count": 4,
   "metadata": {},
   "outputs": [
    {
     "data": {
      "text/html": [
       "<div>\n",
       "<style scoped>\n",
       "    .dataframe tbody tr th:only-of-type {\n",
       "        vertical-align: middle;\n",
       "    }\n",
       "\n",
       "    .dataframe tbody tr th {\n",
       "        vertical-align: top;\n",
       "    }\n",
       "\n",
       "    .dataframe thead th {\n",
       "        text-align: right;\n",
       "    }\n",
       "</style>\n",
       "<table border=\"1\" class=\"dataframe\">\n",
       "  <thead>\n",
       "    <tr style=\"text-align: right;\">\n",
       "      <th></th>\n",
       "      <th>Life Ladder</th>\n",
       "      <th>Log GDP per capita</th>\n",
       "      <th>Social support</th>\n",
       "      <th>Healthy life expectancy at birth</th>\n",
       "      <th>Freedom to make life choices</th>\n",
       "      <th>Generosity</th>\n",
       "      <th>Perceptions of corruption</th>\n",
       "      <th>sex_female</th>\n",
       "      <th>sex_male</th>\n",
       "      <th>age_15-24 years</th>\n",
       "      <th>age_25-34 years</th>\n",
       "      <th>age_35-54 years</th>\n",
       "      <th>age_5-14 years</th>\n",
       "      <th>age_55-74 years</th>\n",
       "      <th>age_75+ years</th>\n",
       "    </tr>\n",
       "  </thead>\n",
       "  <tbody>\n",
       "    <tr>\n",
       "      <th>0</th>\n",
       "      <td>4.634</td>\n",
       "      <td>9.142</td>\n",
       "      <td>0.821</td>\n",
       "      <td>65.8</td>\n",
       "      <td>0.529</td>\n",
       "      <td>-0.009</td>\n",
       "      <td>0.875</td>\n",
       "      <td>0</td>\n",
       "      <td>1</td>\n",
       "      <td>0</td>\n",
       "      <td>0</td>\n",
       "      <td>0</td>\n",
       "      <td>0</td>\n",
       "      <td>0</td>\n",
       "      <td>1</td>\n",
       "    </tr>\n",
       "    <tr>\n",
       "      <th>1</th>\n",
       "      <td>4.634</td>\n",
       "      <td>9.142</td>\n",
       "      <td>0.821</td>\n",
       "      <td>65.8</td>\n",
       "      <td>0.529</td>\n",
       "      <td>-0.009</td>\n",
       "      <td>0.875</td>\n",
       "      <td>0</td>\n",
       "      <td>1</td>\n",
       "      <td>0</td>\n",
       "      <td>0</td>\n",
       "      <td>1</td>\n",
       "      <td>0</td>\n",
       "      <td>0</td>\n",
       "      <td>0</td>\n",
       "    </tr>\n",
       "    <tr>\n",
       "      <th>2</th>\n",
       "      <td>4.634</td>\n",
       "      <td>9.142</td>\n",
       "      <td>0.821</td>\n",
       "      <td>65.8</td>\n",
       "      <td>0.529</td>\n",
       "      <td>-0.009</td>\n",
       "      <td>0.875</td>\n",
       "      <td>0</td>\n",
       "      <td>1</td>\n",
       "      <td>0</td>\n",
       "      <td>0</td>\n",
       "      <td>0</td>\n",
       "      <td>0</td>\n",
       "      <td>1</td>\n",
       "      <td>0</td>\n",
       "    </tr>\n",
       "    <tr>\n",
       "      <th>3</th>\n",
       "      <td>4.634</td>\n",
       "      <td>9.142</td>\n",
       "      <td>0.821</td>\n",
       "      <td>65.8</td>\n",
       "      <td>0.529</td>\n",
       "      <td>-0.009</td>\n",
       "      <td>0.875</td>\n",
       "      <td>1</td>\n",
       "      <td>0</td>\n",
       "      <td>0</td>\n",
       "      <td>0</td>\n",
       "      <td>0</td>\n",
       "      <td>0</td>\n",
       "      <td>0</td>\n",
       "      <td>1</td>\n",
       "    </tr>\n",
       "    <tr>\n",
       "      <th>4</th>\n",
       "      <td>4.634</td>\n",
       "      <td>9.142</td>\n",
       "      <td>0.821</td>\n",
       "      <td>65.8</td>\n",
       "      <td>0.529</td>\n",
       "      <td>-0.009</td>\n",
       "      <td>0.875</td>\n",
       "      <td>0</td>\n",
       "      <td>1</td>\n",
       "      <td>0</td>\n",
       "      <td>1</td>\n",
       "      <td>0</td>\n",
       "      <td>0</td>\n",
       "      <td>0</td>\n",
       "      <td>0</td>\n",
       "    </tr>\n",
       "  </tbody>\n",
       "</table>\n",
       "</div>"
      ],
      "text/plain": [
       "   Life Ladder  Log GDP per capita  Social support  \\\n",
       "0        4.634               9.142           0.821   \n",
       "1        4.634               9.142           0.821   \n",
       "2        4.634               9.142           0.821   \n",
       "3        4.634               9.142           0.821   \n",
       "4        4.634               9.142           0.821   \n",
       "\n",
       "   Healthy life expectancy at birth  Freedom to make life choices  Generosity  \\\n",
       "0                              65.8                         0.529      -0.009   \n",
       "1                              65.8                         0.529      -0.009   \n",
       "2                              65.8                         0.529      -0.009   \n",
       "3                              65.8                         0.529      -0.009   \n",
       "4                              65.8                         0.529      -0.009   \n",
       "\n",
       "   Perceptions of corruption  sex_female  sex_male  age_15-24 years  \\\n",
       "0                      0.875           0         1                0   \n",
       "1                      0.875           0         1                0   \n",
       "2                      0.875           0         1                0   \n",
       "3                      0.875           1         0                0   \n",
       "4                      0.875           0         1                0   \n",
       "\n",
       "   age_25-34 years  age_35-54 years  age_5-14 years  age_55-74 years  \\\n",
       "0                0                0               0                0   \n",
       "1                0                1               0                0   \n",
       "2                0                0               0                1   \n",
       "3                0                0               0                0   \n",
       "4                1                0               0                0   \n",
       "\n",
       "   age_75+ years  \n",
       "0              1  \n",
       "1              0  \n",
       "2              0  \n",
       "3              1  \n",
       "4              0  "
      ]
     },
     "execution_count": 4,
     "metadata": {},
     "output_type": "execute_result"
    }
   ],
   "source": [
    "x = df.drop(columns=['suicides/100k pop'])\n",
    "x.head()"
   ]
  },
  {
   "cell_type": "code",
   "execution_count": 5,
   "metadata": {},
   "outputs": [
    {
     "data": {
      "text/plain": [
       "0    18.88\n",
       "1     7.66\n",
       "2     6.25\n",
       "3     5.23\n",
       "4     5.22\n",
       "Name: suicides/100k pop, dtype: float64"
      ]
     },
     "execution_count": 5,
     "metadata": {},
     "output_type": "execute_result"
    }
   ],
   "source": [
    "y = df['suicides/100k pop']\n",
    "y.head()"
   ]
  },
  {
   "cell_type": "markdown",
   "metadata": {},
   "source": [
    "# Linear Regression"
   ]
  },
  {
   "cell_type": "markdown",
   "metadata": {},
   "source": [
    "## Linear Regression Multiple Variable"
   ]
  },
  {
   "cell_type": "code",
   "execution_count": 6,
   "metadata": {},
   "outputs": [
    {
     "name": "stdout",
     "output_type": "stream",
     "text": [
      "Intercept of Regression \t: b =  -36.599355738659305\n",
      "Coefficients of Regression \t: a =  [ -2.10705822   3.57090816  42.51583623  -0.14666195  -2.87417186\n",
      " -12.50106799   0.60883562  -7.44885335   7.44885335  -3.50286742\n",
      "  -0.95614953   2.34002769 -11.26301125   3.29477915  10.08722136]\n",
      "\n"
     ]
    }
   ],
   "source": [
    "# Import essential models and functions from sklearn\n",
    "from sklearn.linear_model import LinearRegression\n",
    "from sklearn.model_selection import train_test_split\n",
    "from sklearn.metrics import mean_squared_error\n",
    "\n",
    "# Split the Dataset into Train and Test\n",
    "x_train, x_test, y_train, y_test = train_test_split(x, y, test_size = 0.25, random_state=37)\n",
    "\n",
    "# Linear Regression using Train Data\n",
    "linreg = LinearRegression()         # create the linear regression object\n",
    "linreg.fit(x_train, y_train)        # train the linear regression model\n",
    "\n",
    "# Coefficients of the Linear Regression line\n",
    "print('Intercept of Regression \\t: b = ', linreg.intercept_)\n",
    "print('Coefficients of Regression \\t: a = ', linreg.coef_)\n",
    "print()\n",
    "\n",
    "# Predict Response corresponding to Predictors\n",
    "y_train_pred = linreg.predict(x_train)\n",
    "y_test_pred = linreg.predict(x_test)"
   ]
  },
  {
   "cell_type": "code",
   "execution_count": 7,
   "metadata": {},
   "outputs": [
    {
     "data": {
      "image/png": "[encoded data removed]",
      "text/plain": [
       "<Figure size 864x576 with 1 Axes>"
      ]
     },
     "metadata": {},
     "output_type": "display_data"
    },
    {
     "name": "stdout",
     "output_type": "stream",
     "text": [
      "Goodness of Fit of Model \tTrain Dataset\n",
      "Explained Variance (R^2) \t: 0.43560490411395203\n",
      "Mean Squared Error (MSE) \t: 145.6927231966317\n",
      "\n"
     ]
    }
   ],
   "source": [
    "# Plot the Predictions vs the True values\n",
    "f = plt.figure(figsize=(12, 8))\n",
    "plt.scatter(y_train, y_train_pred, color = \"blue\")\n",
    "plt.plot(y_train, y_train, 'black', linewidth = 3)\n",
    "plt.show()\n",
    "\n",
    "# Check the Goodness of Fit (on Train Data)\n",
    "print(\"Goodness of Fit of Model \\tTrain Dataset\")\n",
    "print(\"Explained Variance (R^2) \\t:\", linreg.score(x_train, y_train))\n",
    "print(\"Mean Squared Error (MSE) \\t:\", mean_squared_error(y_train, y_train_pred))\n",
    "print()"
   ]
  },
  {
   "cell_type": "code",
   "execution_count": 8,
   "metadata": {},
   "outputs": [
    {
     "data": {
      "image/png": "[encoded data removed]",
      "text/plain": [
       "<Figure size 864x576 with 1 Axes>"
      ]
     },
     "metadata": {},
     "output_type": "display_data"
    },
    {
     "name": "stdout",
     "output_type": "stream",
     "text": [
      "Goodness of Fit of Model \tTest Dataset\n",
      "Explained Variance (R^2) \t: 0.3792488372840963\n",
      "Mean Squared Error (MSE) \t: 142.24942348244423\n",
      "\n"
     ]
    }
   ],
   "source": [
    "f = plt.figure(figsize=(12, 8))\n",
    "plt.scatter(y_test, y_test_pred, color = \"green\")\n",
    "plt.plot(y_test, y_test, 'black', linewidth = 3)\n",
    "plt.show()\n",
    "# Check the Goodness of Fit (on Test Data)\n",
    "print(\"Goodness of Fit of Model \\tTest Dataset\")\n",
    "print(\"Explained Variance (R^2) \\t:\", linreg.score(x_test, y_test))\n",
    "print(\"Mean Squared Error (MSE) \\t:\", mean_squared_error(y_test, y_test_pred))\n",
    "print()"
   ]
  },
  {
   "cell_type": "code",
   "execution_count": null,
   "metadata": {},
   "outputs": [],
   "source": []
  },
  {
   "cell_type": "markdown",
   "metadata": {},
   "source": [
    "## Linear Regression Specific Variable"
   ]
  },
  {
   "cell_type": "markdown",
   "metadata": {},
   "source": [
    "### Sex and Age Bracket"
   ]
  },
  {
   "cell_type": "code",
   "execution_count": 9,
   "metadata": {},
   "outputs": [
    {
     "name": "stdout",
     "output_type": "stream",
     "text": [
      "Intercept of Regression \t: b =  -150248018010497.16\n",
      "Coefficients of Regression \t: a =  [2.64797735e+13 2.64797735e+13 1.23768245e+14 1.23768245e+14\n",
      " 1.23768245e+14 1.23768245e+14 1.23768245e+14 1.23768245e+14]\n",
      "\n"
     ]
    }
   ],
   "source": [
    "selected_x = pd.DataFrame(x[['sex_female','sex_male','age_15-24 years','age_25-34 years','age_35-54 years','age_5-14 years','age_55-74 years','age_75+ years']])\n",
    "# Split the Dataset into Train and Test\n",
    "x_train, x_test, y_train, y_test = train_test_split(selected_x, y, test_size = 0.25, random_state=37)\n",
    "\n",
    "# Linear Regression using Train Data\n",
    "linreg = LinearRegression()         # create the linear regression object\n",
    "linreg.fit(x_train, y_train)        # train the linear regression model\n",
    "\n",
    "# Coefficients of the Linear Regression line\n",
    "print('Intercept of Regression \\t: b = ', linreg.intercept_)\n",
    "print('Coefficients of Regression \\t: a = ', linreg.coef_)\n",
    "print()\n",
    "\n",
    "# Predict Response corresponding to Predictors\n",
    "y_train_pred = linreg.predict(x_train)\n",
    "y_test_pred = linreg.predict(x_test)"
   ]
  },
  {
   "cell_type": "code",
   "execution_count": 10,
   "metadata": {},
   "outputs": [
    {
     "data": {
      "image/png": "[encoded data removed]",
      "text/plain": [
       "<Figure size 864x576 with 1 Axes>"
      ]
     },
     "metadata": {},
     "output_type": "display_data"
    },
    {
     "name": "stdout",
     "output_type": "stream",
     "text": [
      "Goodness of Fit of Model \tTrain Dataset\n",
      "Explained Variance (R^2) \t: 0.3775344667549685\n",
      "Mean Squared Error (MSE) \t: 160.6830025553983\n",
      "\n"
     ]
    }
   ],
   "source": [
    "f = plt.figure(figsize=(12, 8))\n",
    "plt.scatter(y_train, y_train_pred, color = \"blue\")\n",
    "plt.plot(y_train, y_train, 'black', linewidth = 3)\n",
    "plt.show()\n",
    "\n",
    "# Check the Goodness of Fit (on Train Data)\n",
    "print(\"Goodness of Fit of Model \\tTrain Dataset\")\n",
    "print(\"Explained Variance (R^2) \\t:\", linreg.score(x_train, y_train))\n",
    "print(\"Mean Squared Error (MSE) \\t:\", mean_squared_error(y_train, y_train_pred))\n",
    "print()"
   ]
  },
  {
   "cell_type": "code",
   "execution_count": 11,
   "metadata": {},
   "outputs": [
    {
     "data": {
      "image/png": "[encoded data removed]",
      "text/plain": [
       "<Figure size 864x576 with 1 Axes>"
      ]
     },
     "metadata": {},
     "output_type": "display_data"
    },
    {
     "name": "stdout",
     "output_type": "stream",
     "text": [
      "Goodness of Fit of Model \tTest Dataset\n",
      "Explained Variance (R^2) \t: 0.3372136544669132\n",
      "Mean Squared Error (MSE) \t: 151.88207643723226\n",
      "\n"
     ]
    }
   ],
   "source": [
    "f = plt.figure(figsize=(12, 8))\n",
    "plt.scatter(y_test, y_test_pred, color = \"green\")\n",
    "plt.plot(y_test, y_test, 'black', linewidth = 3)\n",
    "plt.show()\n",
    "# Check the Goodness of Fit (on Test Data)\n",
    "print(\"Goodness of Fit of Model \\tTest Dataset\")\n",
    "print(\"Explained Variance (R^2) \\t:\", linreg.score(x_test, y_test))\n",
    "print(\"Mean Squared Error (MSE) \\t:\", mean_squared_error(y_test, y_test_pred))\n",
    "print()"
   ]
  },
  {
   "cell_type": "markdown",
   "metadata": {},
   "source": [
    "### Countries"
   ]
  },
  {
   "cell_type": "code",
   "execution_count": 12,
   "metadata": {},
   "outputs": [
    {
     "name": "stdout",
     "output_type": "stream",
     "text": [
      "Intercept of Regression \t: b =  -34.195633086855985\n",
      "Coefficients of Regression \t: a =  [ -2.16672688   3.39668839  42.25266323  -0.14663277  -3.0144824\n",
      " -11.57064193   0.81067788]\n",
      "\n"
     ]
    }
   ],
   "source": [
    "selected_x = pd.DataFrame(x[['Life Ladder','Log GDP per capita','Social support','Healthy life expectancy at birth','Freedom to make life choices','Generosity','Perceptions of corruption']])\n",
    "# Split the Dataset into Train and Test\n",
    "x_train, x_test, y_train, y_test = train_test_split(selected_x, y, test_size = 0.25, random_state=37)\n",
    "\n",
    "# Linear Regression using Train Data\n",
    "linreg = LinearRegression()         # create the linear regression object\n",
    "linreg.fit(x_train, y_train)        # train the linear regression model\n",
    "\n",
    "# Coefficients of the Linear Regression line\n",
    "print('Intercept of Regression \\t: b = ', linreg.intercept_)\n",
    "print('Coefficients of Regression \\t: a = ', linreg.coef_)\n",
    "print()\n",
    "\n",
    "# Predict Response corresponding to Predictors\n",
    "y_train_pred = linreg.predict(x_train)\n",
    "y_test_pred = linreg.predict(x_test)"
   ]
  },
  {
   "cell_type": "code",
   "execution_count": 13,
   "metadata": {},
   "outputs": [
    {
     "data": {
      "image/png": "[encoded data removed]",
      "text/plain": [
       "<Figure size 864x576 with 1 Axes>"
      ]
     },
     "metadata": {},
     "output_type": "display_data"
    },
    {
     "name": "stdout",
     "output_type": "stream",
     "text": [
      "Goodness of Fit of Model \tTrain Dataset\n",
      "Explained Variance (R^2) \t: 0.05475364758190382\n",
      "Mean Squared Error (MSE) \t: 244.00551347682227\n",
      "\n"
     ]
    }
   ],
   "source": [
    "f = plt.figure(figsize=(12, 8))\n",
    "plt.scatter(y_train, y_train_pred, color = \"blue\")\n",
    "plt.plot(y_train, y_train, 'black', linewidth = 3)\n",
    "plt.show()\n",
    "\n",
    "# Check the Goodness of Fit (on Train Data)\n",
    "print(\"Goodness of Fit of Model \\tTrain Dataset\")\n",
    "print(\"Explained Variance (R^2) \\t:\", linreg.score(x_train, y_train))\n",
    "print(\"Mean Squared Error (MSE) \\t:\", mean_squared_error(y_train, y_train_pred))\n",
    "print()"
   ]
  },
  {
   "cell_type": "code",
   "execution_count": 14,
   "metadata": {},
   "outputs": [
    {
     "data": {
      "image/png": "[encoded data removed]",
      "text/plain": [
       "<Figure size 864x576 with 1 Axes>"
      ]
     },
     "metadata": {},
     "output_type": "display_data"
    },
    {
     "name": "stdout",
     "output_type": "stream",
     "text": [
      "Goodness of Fit of Model \tTest Dataset\n",
      "Explained Variance (R^2) \t: 0.05194495042021052\n",
      "Mean Squared Error (MSE) \t: 217.2533735455378\n",
      "\n"
     ]
    }
   ],
   "source": [
    "f = plt.figure(figsize=(12, 8))\n",
    "plt.scatter(y_test, y_test_pred, color = \"green\")\n",
    "plt.plot(y_test, y_test, 'black', linewidth = 3)\n",
    "plt.show()\n",
    "# Check the Goodness of Fit (on Test Data)\n",
    "print(\"Goodness of Fit of Model \\tTest Dataset\")\n",
    "print(\"Explained Variance (R^2) \\t:\", linreg.score(x_test, y_test))\n",
    "print(\"Mean Squared Error (MSE) \\t:\", mean_squared_error(y_test, y_test_pred))\n",
    "print()"
   ]
  },
  {
   "cell_type": "markdown",
   "metadata": {},
   "source": [
    "---\n",
    "# KNeighbourhoodRegressor"
   ]
  },
  {
   "cell_type": "code",
   "execution_count": 15,
   "metadata": {},
   "outputs": [],
   "source": [
    "from sklearn.neighbors import KNeighborsRegressor\n",
    "from sklearn.model_selection import train_test_split, GridSearchCV\n",
    "from sklearn.preprocessing import MinMaxScaler\n",
    "from sklearn.metrics import mean_squared_error, r2_score\n",
    "from math import sqrt\n",
    "from sklearn.cluster import KMeans"
   ]
  },
  {
   "cell_type": "code",
   "execution_count": 16,
   "metadata": {},
   "outputs": [],
   "source": [
    "x_train, x_test, y_train, y_test = train_test_split(x, y, test_size=0.2, random_state=37)"
   ]
  },
  {
   "cell_type": "code",
   "execution_count": 17,
   "metadata": {},
   "outputs": [],
   "source": [
    "from sklearn.preprocessing import MinMaxScaler\n",
    "scaler = MinMaxScaler(feature_range=(0, 1))\n",
    "\n",
    "x_train = pd.DataFrame(scaler.fit_transform(x_train))\n",
    "x_test = pd.DataFrame(scaler.fit_transform(x_test))"
   ]
  },
  {
   "cell_type": "code",
   "execution_count": 18,
   "metadata": {},
   "outputs": [
    {
     "name": "stdout",
     "output_type": "stream",
     "text": [
      "     K  Test Score  Train Score\n",
      "0    1    0.694329     1.000000\n",
      "1    2    0.742922     0.936392\n",
      "2    3    0.745488     0.901297\n",
      "3    4    0.716032     0.875546\n",
      "4    5    0.719193     0.859926\n",
      "5    6    0.698508     0.845824\n",
      "6    7    0.686313     0.831741\n",
      "7    8    0.670339     0.819746\n",
      "8    9    0.654575     0.809009\n",
      "9   10    0.644797     0.796193\n",
      "10  11    0.637224     0.786588\n",
      "11  12    0.624867     0.775329\n",
      "12  13    0.617904     0.766860\n",
      "13  14    0.604935     0.757488\n",
      "14  15    0.600602     0.751433\n",
      "15  16    0.601194     0.743407\n",
      "16  17    0.601189     0.736540\n",
      "17  18    0.595092     0.730902\n",
      "18  19    0.587692     0.722523\n"
     ]
    }
   ],
   "source": [
    "k_arr = []\n",
    "for i in range(1,20,1):\n",
    "    knn = KNeighborsRegressor(n_neighbors=i)\n",
    "    knn.fit(x_train,y_train)\n",
    "    test_score = knn.score(x_test,y_test)\n",
    "    train_score = knn.score(x_train,y_train)\n",
    "    k_arr.append((i, test_score ,train_score))\n",
    "dataframe_arr = pd.DataFrame(k_arr, columns=['K','Test Score','Train Score'])\n",
    "print(dataframe_arr)"
   ]
  },
  {
   "cell_type": "code",
   "execution_count": 19,
   "metadata": {},
   "outputs": [
    {
     "name": "stdout",
     "output_type": "stream",
     "text": [
      "Root Mean Square Error for k=1: 7.886251158785747\n",
      "Root Mean Square Error for k=2: 7.232295394569551\n",
      "Root Mean Square Error for k=3: 7.196109154298901\n",
      "Root Mean Square Error for k=4: 7.601126223038444\n",
      "Root Mean Square Error for k=5: 7.558700653068034\n",
      "Root Mean Square Error for k=6: 7.832151311907411\n",
      "Root Mean Square Error for k=7: 7.988990118822401\n",
      "Root Mean Square Error for k=8: 8.189877065015732\n",
      "Root Mean Square Error for k=9: 8.38339494238435\n",
      "Root Mean Square Error for k=10: 8.50122620292884\n",
      "Root Mean Square Error for k=11: 8.591368213200216\n",
      "Root Mean Square Error for k=12: 8.736474254129782\n",
      "Root Mean Square Error for k=13: 8.817177599615125\n",
      "Root Mean Square Error for k=14: 8.965561928813234\n",
      "Root Mean Square Error for k=15: 9.014592800669126\n",
      "Root Mean Square Error for k=16: 9.007907091708626\n",
      "Root Mean Square Error for k=17: 9.007965579233161\n",
      "Root Mean Square Error for k=18: 9.076562642165651\n",
      "Root Mean Square Error for k=19: 9.159124253811038\n",
      "Root Mean Square Error for k=20: 9.193274302624037\n"
     ]
    }
   ],
   "source": [
    "rmse_arr = [] #to store rmse values for different k\n",
    "for i in range(20):\n",
    "    i = i+1\n",
    "    model = KNeighborsRegressor(n_neighbors = i)\n",
    "\n",
    "    model.fit(x_train, y_train)  #fit the model\n",
    "    pred=model.predict(x_test) #make prediction on test set\n",
    "    err = sqrt(mean_squared_error(y_test,pred)) #calculate rmse\n",
    "    rmse_arr.append(err) #store rmse values\n",
    "    print(f'Root Mean Square Error for k={i}: {err}')"
   ]
  },
  {
   "cell_type": "code",
   "execution_count": 20,
   "metadata": {},
   "outputs": [
    {
     "data": {
      "text/plain": [
       "<AxesSubplot:>"
      ]
     },
     "execution_count": 20,
     "metadata": {},
     "output_type": "execute_result"
    },
    {
     "data": {
      "image/png": "[encoded data removed]",
      "text/plain": [
       "<Figure size 432x288 with 1 Axes>"
      ]
     },
     "metadata": {},
     "output_type": "display_data"
    }
   ],
   "source": [
    "f = pd.DataFrame(rmse_arr) #elbow curve \n",
    "f.plot()"
   ]
  },
  {
   "cell_type": "code",
   "execution_count": 21,
   "metadata": {},
   "outputs": [
    {
     "data": {
      "text/plain": [
       "{'n_neighbors': 3}"
      ]
     },
     "execution_count": 21,
     "metadata": {},
     "output_type": "execute_result"
    }
   ],
   "source": [
    "params = {'n_neighbors':[2,3,4,5,6,7,8,9]}\n",
    "knn = KNeighborsRegressor()\n",
    "\n",
    "model = GridSearchCV(knn, params, cv=5)\n",
    "model.fit(x_train,y_train)\n",
    "model.best_params_"
   ]
  },
  {
   "cell_type": "code",
   "execution_count": null,
   "metadata": {},
   "outputs": [],
   "source": [
    "knn = KNeighborsRegressor(n_neighbors=3)\n",
    "knn.fit(x_train,y_train)"
   ]
  },
  {
   "cell_type": "code",
   "execution_count": null,
   "metadata": {},
   "outputs": [],
   "source": [
    "print(knn.score(x_test, y_test))"
   ]
  },
  {
   "cell_type": "code",
   "execution_count": null,
   "metadata": {},
   "outputs": [],
   "source": [
    "y_predict=knn.predict(x_test)"
   ]
  },
  {
   "cell_type": "code",
   "execution_count": null,
   "metadata": {},
   "outputs": [],
   "source": [
    "f = plt.figure(figsize=(12, 8))\n",
    "plt.scatter(y_test, y_predict, color = \"red\")\n",
    "plt.plot(y_test, y_test, 'black', linewidth = 3)\n",
    "plt.show()"
   ]
  },
  {
   "cell_type": "code",
   "execution_count": null,
   "metadata": {},
   "outputs": [],
   "source": [
    "r2_score(y_predict,y_test)"
   ]
  },
  {
   "cell_type": "markdown",
   "metadata": {},
   "source": [
    "---\n",
    "# Random Forest Regressor"
   ]
  },
  {
   "cell_type": "code",
   "execution_count": null,
   "metadata": {},
   "outputs": [],
   "source": [
    "x_train, x_test, y_train, y_test = train_test_split(x, y, test_size=0.2, random_state=37)"
   ]
  },
  {
   "cell_type": "code",
   "execution_count": null,
   "metadata": {},
   "outputs": [],
   "source": [
    "from sklearn.ensemble import RandomForestRegressor"
   ]
  },
  {
   "cell_type": "code",
   "execution_count": null,
   "metadata": {
    "scrolled": true
   },
   "outputs": [],
   "source": [
    "rf = RandomForestRegressor(n_estimators = 100, random_state = 42)\n",
    "rf.fit(x_train, y_train)\n",
    "print(f\"Train:{rf.score(x_train,y_train)} Test:{rf.score(x_test,y_test)}\")"
   ]
  },
  {
   "cell_type": "code",
   "execution_count": null,
   "metadata": {},
   "outputs": [],
   "source": [
    "print(rf.score(x_test, y_test))"
   ]
  },
  {
   "cell_type": "code",
   "execution_count": null,
   "metadata": {},
   "outputs": [],
   "source": [
    "f = plt.figure(figsize=(12, 8))\n",
    "plt.scatter(y_predict, y_test, color = \"purple\")\n",
    "plt.plot(y_test, y_test, 'black', linewidth = 3)\n",
    "plt.show()"
   ]
  },
  {
   "cell_type": "code",
   "execution_count": null,
   "metadata": {},
   "outputs": [],
   "source": [
    "y_predict=rf.predict(x_test)\n",
    "r2_score(y_predict,y_test)"
   ]
  }
 ],
 "metadata": {
  "kernelspec": {
   "display_name": "Python 3",
   "language": "python",
   "name": "python3"
  },
  "language_info": {
   "codemirror_mode": {
    "name": "ipython",
    "version": 3
   },
   "file_extension": ".py",
   "mimetype": "text/x-python",
   "name": "python",
   "nbconvert_exporter": "python",
   "pygments_lexer": "ipython3",
   "version": "3.8.5"
  }
 },
 "nbformat": 4,
 "nbformat_minor": 4
}
